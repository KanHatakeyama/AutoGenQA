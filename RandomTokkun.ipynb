{
 "cells": [
  {
   "cell_type": "code",
   "execution_count": 48,
   "metadata": {},
   "outputs": [],
   "source": [
    "#コード､論理、算数などの特訓\n",
    "import joblib\n",
    "import random"
   ]
  },
  {
   "cell_type": "code",
   "execution_count": 49,
   "metadata": {},
   "outputs": [],
   "source": [
    "from datasets import load_dataset\n",
    "#ds=load_dataset(\"izumi-lab/wikipedia-ja-20230720\",split=\"train\")\n",
    "#title_list=ds['title']\n",
    "#joblib.dump(title_list,'title_list.joblib',compress=9)\n",
    "title_list=joblib.load('title_list.joblib')"
   ]
  },
  {
   "cell_type": "code",
   "execution_count": 50,
   "metadata": {},
   "outputs": [],
   "source": [
    "import joblib"
   ]
  },
  {
   "cell_type": "code",
   "execution_count": 51,
   "metadata": {},
   "outputs": [],
   "source": [
    "def get_random_keyword():\n",
    "    return random.choice(title_list)"
   ]
  },
  {
   "cell_type": "code",
   "execution_count": 52,
   "metadata": {},
   "outputs": [],
   "source": [
    "import joblib\n",
    "import random\n",
    "\n",
    "#keyword_list=joblib.load(\"oasst_noun_list.bin\")"
   ]
  },
  {
   "cell_type": "code",
   "execution_count": 63,
   "metadata": {},
   "outputs": [
    {
     "name": "stdout",
     "output_type": "stream",
     "text": [
      "あなたは高校の算数の教師です｡\n",
      "・アルゴリズムとコード生成に関するタスクを生成しなさい｡\n",
      "・フォーマットは厳守すること\n",
      "・用いるキーワード: 田中敏\n",
      "\n",
      "[フォーマット]\n",
      "#問題:\n",
      "#回答:\n"
     ]
    }
   ],
   "source": [
    "def random_algorithm1():\n",
    "    classes=[\"大学院\",\"大学\",\"高校\",\"小学校\",\"専門学校\"]\n",
    "    class_=random.choice(classes)\n",
    "    genres=[\"アルゴリズム\",\"プログラミング\",\"Python\",\"html\",\"JavaScript\",\"C\",\n",
    "            \"算数\",\"数学\",\"データベース\"]\n",
    "    genre=random.choice(genres)\n",
    "    #keywords=random.choice(keyword_list)\n",
    "    #keywords=random.sample(keywords,1)[0]\n",
    "    keywords=get_random_keyword()\n",
    "    problem=f\"\"\"あなたは{class_}の{genre}の教師です｡\n",
    "・アルゴリズムとコード生成に関するタスクを生成しなさい｡\n",
    "・フォーマットは厳守すること\n",
    "・用いるキーワード: {keywords}\n",
    "\n",
    "[フォーマット]\n",
    "#問題:\n",
    "#回答:\"\"\"\n",
    "\n",
    "    return problem\n",
    "\n",
    "print(random_algorithm1())"
   ]
  },
  {
   "cell_type": "code",
   "execution_count": 56,
   "metadata": {},
   "outputs": [
    {
     "name": "stdout",
     "output_type": "stream",
     "text": [
      "あなたは大学院の数学の教師です｡\n",
      "・タスクを生成しなさい｡\n",
      "・フォーマットは厳守すること\n",
      "・用いるキーワード: 黒田長政供養の碑\n",
      "・用いる数字: 27,39\n",
      "\n",
      "[フォーマット]\n",
      "#問題:\n",
      "#回答:\n"
     ]
    }
   ],
   "source": [
    "import string\n",
    "def random_algorithm2():\n",
    "    classes=[\"大学院\",\"大学\",\"高校\",\"小学校\",\"専門学校\"]\n",
    "    class_=random.choice(classes)\n",
    "    genres=[\"算数\",\"数学\",]\n",
    "    genre=random.choice(genres)\n",
    "\n",
    "    keywords=get_random_keyword()\n",
    "    random_ints=[random.randint(1,100) for _ in range(random.randint(1,10))]\n",
    "    random_floats=[random.uniform(-1000,1000) for _ in range(random.randint(1,10))]\n",
    "    random_hensu=[\"x\",\"y\",\"z\"]\n",
    "    length = random.randint(1, 6)\n",
    "    random_hensu2 = random.sample(string.ascii_lowercase, length)\n",
    "\n",
    "    random_numbers=random.choice([random_ints,random_floats,random_hensu,random_hensu2])\n",
    "    num_strings=[str(num) for num in random_numbers]\n",
    "    num_keywords=\",\".join(num_strings)\n",
    "    \n",
    "    problem=f\"\"\"あなたは{class_}の{genre}の教師です｡\n",
    "・タスクを生成しなさい｡\n",
    "・フォーマットは厳守すること\n",
    "・用いるキーワード: {keywords}\n",
    "・用いる数字: {num_keywords}\n",
    "\n",
    "[フォーマット]\n",
    "#問題:\n",
    "#回答:\"\"\"\n",
    "\n",
    "    return problem\n",
    "\n",
    "print(random_algorithm2())"
   ]
  },
  {
   "cell_type": "code",
   "execution_count": 57,
   "metadata": {},
   "outputs": [
    {
     "name": "stdout",
     "output_type": "stream",
     "text": [
      "あなたは専門学校のクイズの教師です｡\n",
      "・読解力と論理的思考力が要求される難解な長文の問題と模範解答を生成しなさい｡\n",
      "・フォーマットは厳守すること\n",
      "・用いるキーワード: 占城\n",
      "\n",
      "[フォーマット]\n",
      "#問題:\n",
      "#回答:\n"
     ]
    }
   ],
   "source": [
    "\n",
    "def random_algorithm3():\n",
    "    classes=[\"大学院\",\"大学\",\"高校\",\"小学校\",\"専門学校\"]\n",
    "    class_=random.choice(classes)\n",
    "    genres=[\"論理\",\"ロジカルシンキング\",\"論理的思考\",\"クイズ\",\"謎解き\",\n",
    "            \"コンサルタント\",\"物語\",\"論理学\",\"哲学\"]\n",
    "    genre=random.choice(genres)\n",
    "    keywords=get_random_keyword()\n",
    "   \n",
    "    problem=f\"\"\"あなたは{class_}の{genre}の教師です｡\n",
    "・読解力と論理的思考力が要求される難解な長文の問題と模範解答を生成しなさい｡\n",
    "・フォーマットは厳守すること\n",
    "・用いるキーワード: {keywords}\n",
    "\n",
    "[フォーマット]\n",
    "#問題:\n",
    "#回答:\"\"\"\n",
    "\n",
    "    return problem\n",
    "\n",
    "print(random_algorithm3())"
   ]
  },
  {
   "cell_type": "code",
   "execution_count": 58,
   "metadata": {},
   "outputs": [
    {
     "name": "stdout",
     "output_type": "stream",
     "text": [
      "あなたは大学の演劇の教師です｡\n",
      "・日本語のタスクを生成しなさい(◯◯の立場に立って、というタイプのタスクにすること)\n",
      "・フォーマットは厳守すること\n",
      "・シチュエーション: 甲塚古墳 (いわき市)\n",
      "\n",
      "[フォーマット]\n",
      "#問題:\n",
      "#回答:\n"
     ]
    }
   ],
   "source": [
    "\n",
    "\n",
    "def random_algorithm4():\n",
    "    classes=[\"大学院\",\"大学\",\"高校\",\"小学校\",\"専門学校\"]\n",
    "    class_=random.choice(classes)\n",
    "    genres=[\"演劇\",\"役者\",\"ロールプレイ\"]\n",
    "    genre=random.choice(genres)\n",
    "\n",
    "    keywords=get_random_keyword()\n",
    "   \n",
    "    problem=f\"\"\"あなたは{class_}の{genre}の教師です｡\n",
    "・日本語のタスクを生成しなさい(◯◯の立場に立って、というタイプのタスクにすること)\n",
    "・フォーマットは厳守すること\n",
    "・シチュエーション: {keywords}\n",
    "\n",
    "[フォーマット]\n",
    "#問題:\n",
    "#回答:\"\"\"\n",
    "\n",
    "    return problem\n",
    "\n",
    "print(random_algorithm4())"
   ]
  },
  {
   "cell_type": "code",
   "execution_count": 59,
   "metadata": {},
   "outputs": [
    {
     "name": "stdout",
     "output_type": "stream",
     "text": [
      "あなたは専門学校の教師です｡\n",
      "・高度な日本語のタスクを生成しなさい\n",
      "・フォーマットは厳守すること\n",
      "・シチュエーション: ベターゼン\n",
      "\n",
      "[フォーマット]\n",
      "#問題:\n",
      "#回答:\n"
     ]
    }
   ],
   "source": [
    "\n",
    "\n",
    "def random_algorithm5():\n",
    "    classes=[\"大学院\",\"大学\",\"高校\",\"小学校\",\"専門学校\"]\n",
    "    class_=random.choice(classes)\n",
    "\n",
    "    keywords=get_random_keyword()\n",
    "\n",
    "    problem=f\"\"\"あなたは{class_}の教師です｡\n",
    "・高度な日本語のタスクを生成しなさい\n",
    "・フォーマットは厳守すること\n",
    "・シチュエーション: {keywords}\n",
    "\n",
    "[フォーマット]\n",
    "#問題:\n",
    "#回答:\"\"\"\n",
    "\n",
    "    return problem\n",
    "\n",
    "print(random_algorithm5())"
   ]
  },
  {
   "cell_type": "code",
   "execution_count": 64,
   "metadata": {},
   "outputs": [
    {
     "name": "stdout",
     "output_type": "stream",
     "text": [
      "あなたは高校の教師です｡\n",
      "・厳密性を要求される日本語のタスクを生成しなさい\n",
      "・フォーマットは厳守すること\n",
      "・キーワード: レイカールト・アールツゾーン\n",
      "\n",
      "[フォーマット]\n",
      "#問題:\n",
      "#回答:\n"
     ]
    }
   ],
   "source": [
    "\n",
    "\n",
    "\n",
    "def random_algorithm6():\n",
    "    classes=[\"大学院\",\"大学\",\"高校\",\"小学校\",\"専門学校\"]\n",
    "    class_=random.choice(classes)\n",
    "\n",
    "    keywords=get_random_keyword()\n",
    "\n",
    "    problem=f\"\"\"あなたは{class_}の教師です｡\n",
    "・厳密性を要求される日本語のタスクを生成しなさい\n",
    "・フォーマットは厳守すること\n",
    "・キーワード: {keywords}\n",
    "\n",
    "[フォーマット]\n",
    "#問題:\n",
    "#回答:\"\"\"\n",
    "\n",
    "    return problem\n",
    "\n",
    "print(random_algorithm6())"
   ]
  },
  {
   "cell_type": "code",
   "execution_count": 72,
   "metadata": {},
   "outputs": [
    {
     "name": "stdout",
     "output_type": "stream",
     "text": [
      "論理的な思考力を高めるための難解な問題と模範解答を生成しなさい｡\n",
      "・フォーマットは厳守すること\n",
      "・キーワード: 2020年東京オリンピックのハンドボール競技\n",
      "\n",
      "[フォーマット]\n",
      "#問題:\n",
      "#回答:\n"
     ]
    }
   ],
   "source": [
    "\n",
    "\n",
    "\n",
    "\n",
    "def random_algorithm7():\n",
    "    keywords=get_random_keyword()\n",
    "\n",
    "    problem=f\"\"\"論理的な思考力を高めるための難解な問題と模範解答を生成しなさい｡\n",
    "・フォーマットは厳守すること\n",
    "・キーワード: {keywords}\n",
    "\n",
    "[フォーマット]\n",
    "#問題:\n",
    "#回答:\"\"\"\n",
    "\n",
    "    return problem\n",
    "\n",
    "print(random_algorithm7())"
   ]
  },
  {
   "cell_type": "code",
   "execution_count": 73,
   "metadata": {},
   "outputs": [
    {
     "data": {
      "text/plain": [
       "'論理的な思考力を高めるための難解な問題と模範解答を生成しなさい｡\\n・フォーマットは厳守すること\\n・キーワード: きゅうりピクルス\\n\\n[フォーマット]\\n#問題:\\n#回答:'"
      ]
     },
     "execution_count": 73,
     "metadata": {},
     "output_type": "execute_result"
    }
   ],
   "source": [
    "def random_algorithm():\n",
    "    return random.choice([random_algorithm1(),random_algorithm2(),random_algorithm3(),random_algorithm4(),\n",
    "                          random_algorithm5(),random_algorithm6(),random_algorithm7()])\n",
    "random_algorithm()"
   ]
  },
  {
   "cell_type": "code",
   "execution_count": null,
   "metadata": {},
   "outputs": [],
   "source": [
    "\n",
    "# %%\n",
    "# ライブラリの自動リロード\n",
    "from tqdm import tqdm\n",
    "import random\n",
    "import pandas as pd\n",
    "from src.GGUFBot import GGUFBot\n",
    "from datasets import load_dataset\n",
    "import json\n",
    "from datetime import datetime\n",
    "import joblib\n",
    "import random\n",
    "\n",
    "current_time_no_symbols = datetime.now().strftime(\n",
    "    \"%Y-%m-%d %H:%M:%S\").replace(\"-\", \"\").replace(\":\", \"\").replace(\" \", \"\")\n",
    "out_path = f\"data_random_algorithm/completion_records{current_time_no_symbols}.jsonl\"\n",
    "\n",
    "print(\"init model\")\n",
    "bot = GGUFBot(model_path=\"../ChatServer/model/Mixtral-8x22B-Instruct-v0.1.Q5_K_M-00001-of-00004.gguf\",\n",
    "              max_new_tokens=4000, n_ctx=4000, n_gpu_layers=500)\n",
    "print(\"fin initiating model\")\n",
    "\n",
    "\n",
    "while True:\n",
    "    record = {}\n",
    "    record[\"database\"] = \"random\"\n",
    "    prompt=random_algorithm()\n",
    "    try:\n",
    "        a = bot.ask(prompt)\n",
    "        if a == \"\":\n",
    "            continue\n",
    "        record[\"autogen_text\"] = a\n",
    "    except Exception as e:\n",
    "        print(record, e)\n",
    "        continue\n",
    "\n",
    "    print(record)\n",
    "    with open(out_path, 'a') as f:\n",
    "        f.write(json.dumps(record, ensure_ascii=False)+'\\n')\n"
   ]
  }
 ],
 "metadata": {
  "kernelspec": {
   "display_name": "llmeval",
   "language": "python",
   "name": "python3"
  },
  "language_info": {
   "codemirror_mode": {
    "name": "ipython",
    "version": 3
   },
   "file_extension": ".py",
   "mimetype": "text/x-python",
   "name": "python",
   "nbconvert_exporter": "python",
   "pygments_lexer": "ipython3",
   "version": "3.11.8"
  }
 },
 "nbformat": 4,
 "nbformat_minor": 2
}
