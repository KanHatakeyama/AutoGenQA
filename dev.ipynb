{
 "cells": [
  {
   "cell_type": "code",
   "execution_count": 90,
   "metadata": {},
   "outputs": [
    {
     "name": "stdout",
     "output_type": "stream",
     "text": [
      "The autoreload extension is already loaded. To reload it, use:\n",
      "  %reload_ext autoreload\n"
     ]
    }
   ],
   "source": [
    "#ライブラリの自動リロード\n",
    "%load_ext autoreload\n",
    "%autoreload 2\n",
    "\n",
    "from src.GGUFBot import GGUFBot\n",
    "from src.HFDataset import HFDataset\n",
    "from src.SimpleQuestionGenerator import SimpleQuestionGenerator\n",
    "from src.AnswerGenerator import AnswerGenerator\n",
    "import pandas as pd\n",
    "import random\n",
    "import json"
   ]
  },
  {
   "cell_type": "code",
   "execution_count": 61,
   "metadata": {},
   "outputs": [],
   "source": [
    "\n",
    "#df=pd.read_csv('data/original_q.csv') # indexはなし\n",
    "#original_question_list=df[\"question\"].values.tolist()\n",
    "#original_question_list\n",
    "\n",
    "\n",
    "ds_name=\"hatakeyama-llm-team/WikiBookJa\"\n",
    "ds_name=\"allenai/peS2o\"\n",
    "ds_name=\"kanhatakeyama/TanukiCorpus\"\n",
    "ds_name=\"hatakeyama-llm-team/WikiBookJa\"\n",
    "ds=HFDataset(ds_name,streaming=True)\n",
    "\n",
    "#ds_name=\"suolyer/pile_stackexchange\"\n",
    "#ds=load_dataset(ds_name,split=\"train\",streaming=False).shuffle()\n",
    "\n",
    "#ds_name=\"hatakeyama-llm-team/japanese2010\"\n",
    "#ds_name=\"hpprc/wikipedia-20240101\"\n",
    "#ds_name=\"sudy-super/JetCopper-10B\"\n",
    "# %%"
   ]
  },
  {
   "cell_type": "code",
   "execution_count": 75,
   "metadata": {},
   "outputs": [
    {
     "name": "stderr",
     "output_type": "stream",
     "text": [
      "llama_model_loader: additional 3 GGUFs metadata loaded.\n",
      "llama_model_loader: loaded meta data with 29 key-value pairs and 563 tensors from /home/hatakeyama/python/ChatServer/model/Mixtral-8x22B-Instruct-v0.1.Q5_K_M-00001-of-00004.gguf (version GGUF V3 (latest))\n",
      "llama_model_loader: Dumping metadata keys/values. Note: KV overrides do not apply in this output.\n",
      "llama_model_loader: - kv   0:                       general.architecture str              = llama\n",
      "llama_model_loader: - kv   1:                               general.name str              = models--mistralai--Mixtral-8x22B-Inst...\n",
      "llama_model_loader: - kv   2:                          llama.block_count u32              = 56\n",
      "llama_model_loader: - kv   3:                       llama.context_length u32              = 65536\n",
      "llama_model_loader: - kv   4:                     llama.embedding_length u32              = 6144\n",
      "llama_model_loader: - kv   5:                  llama.feed_forward_length u32              = 16384\n",
      "llama_model_loader: - kv   6:                 llama.attention.head_count u32              = 48\n",
      "llama_model_loader: - kv   7:              llama.attention.head_count_kv u32              = 8\n",
      "llama_model_loader: - kv   8:                       llama.rope.freq_base f32              = 1000000.000000\n",
      "llama_model_loader: - kv   9:     llama.attention.layer_norm_rms_epsilon f32              = 0.000010\n",
      "llama_model_loader: - kv  10:                         llama.expert_count u32              = 8\n",
      "llama_model_loader: - kv  11:                    llama.expert_used_count u32              = 2\n",
      "llama_model_loader: - kv  12:                          general.file_type u32              = 17\n",
      "llama_model_loader: - kv  13:                           llama.vocab_size u32              = 32768\n",
      "llama_model_loader: - kv  14:                 llama.rope.dimension_count u32              = 128\n",
      "llama_model_loader: - kv  15:                       tokenizer.ggml.model str              = llama\n",
      "llama_model_loader: - kv  16:                      tokenizer.ggml.tokens arr[str,32768]   = [\"<unk>\", \"<s>\", \"</s>\", \"[INST]\", \"[...\n",
      "llama_model_loader: - kv  17:                      tokenizer.ggml.scores arr[f32,32768]   = [-1000.000000, -1000.000000, -1000.00...\n",
      "llama_model_loader: - kv  18:                  tokenizer.ggml.token_type arr[i32,32768]   = [3, 3, 3, 1, 1, 1, 1, 1, 1, 1, 1, 1, ...\n",
      "llama_model_loader: - kv  19:                tokenizer.ggml.bos_token_id u32              = 1\n",
      "llama_model_loader: - kv  20:                tokenizer.ggml.eos_token_id u32              = 2\n",
      "llama_model_loader: - kv  21:            tokenizer.ggml.unknown_token_id u32              = 0\n",
      "llama_model_loader: - kv  22:               tokenizer.ggml.add_bos_token bool             = false\n",
      "llama_model_loader: - kv  23:               tokenizer.ggml.add_eos_token bool             = false\n",
      "llama_model_loader: - kv  24:                    tokenizer.chat_template str              = {{bos_token}}{% for message in messag...\n",
      "llama_model_loader: - kv  25:               general.quantization_version u32              = 2\n",
      "llama_model_loader: - kv  26:                                   split.no u16              = 0\n",
      "llama_model_loader: - kv  27:                                split.count u16              = 4\n",
      "llama_model_loader: - kv  28:                        split.tensors.count i32              = 563\n",
      "llama_model_loader: - type  f32:  113 tensors\n",
      "llama_model_loader: - type  f16:   56 tensors\n",
      "llama_model_loader: - type q8_0:  112 tensors\n",
      "llama_model_loader: - type q5_K:  253 tensors\n",
      "llama_model_loader: - type q6_K:   29 tensors\n",
      "llm_load_vocab: mismatch in special tokens definition ( 1027/32768 vs 259/32768 ).\n",
      "llm_load_print_meta: format           = GGUF V3 (latest)\n",
      "llm_load_print_meta: arch             = llama\n",
      "llm_load_print_meta: vocab type       = SPM\n",
      "llm_load_print_meta: n_vocab          = 32768\n",
      "llm_load_print_meta: n_merges         = 0\n",
      "llm_load_print_meta: n_ctx_train      = 65536\n",
      "llm_load_print_meta: n_embd           = 6144\n",
      "llm_load_print_meta: n_head           = 48\n",
      "llm_load_print_meta: n_head_kv        = 8\n",
      "llm_load_print_meta: n_layer          = 56\n",
      "llm_load_print_meta: n_rot            = 128\n",
      "llm_load_print_meta: n_embd_head_k    = 128\n",
      "llm_load_print_meta: n_embd_head_v    = 128\n",
      "llm_load_print_meta: n_gqa            = 6\n",
      "llm_load_print_meta: n_embd_k_gqa     = 1024\n",
      "llm_load_print_meta: n_embd_v_gqa     = 1024\n",
      "llm_load_print_meta: f_norm_eps       = 0.0e+00\n",
      "llm_load_print_meta: f_norm_rms_eps   = 1.0e-05\n",
      "llm_load_print_meta: f_clamp_kqv      = 0.0e+00\n",
      "llm_load_print_meta: f_max_alibi_bias = 0.0e+00\n",
      "llm_load_print_meta: f_logit_scale    = 0.0e+00\n",
      "llm_load_print_meta: n_ff             = 16384\n",
      "llm_load_print_meta: n_expert         = 8\n",
      "llm_load_print_meta: n_expert_used    = 2\n",
      "llm_load_print_meta: causal attn      = 1\n",
      "llm_load_print_meta: pooling type     = 0\n",
      "llm_load_print_meta: rope type        = 0\n",
      "llm_load_print_meta: rope scaling     = linear\n",
      "llm_load_print_meta: freq_base_train  = 1000000.0\n",
      "llm_load_print_meta: freq_scale_train = 1\n",
      "llm_load_print_meta: n_yarn_orig_ctx  = 65536\n",
      "llm_load_print_meta: rope_finetuned   = unknown\n",
      "llm_load_print_meta: ssm_d_conv       = 0\n",
      "llm_load_print_meta: ssm_d_inner      = 0\n",
      "llm_load_print_meta: ssm_d_state      = 0\n",
      "llm_load_print_meta: ssm_dt_rank      = 0\n",
      "llm_load_print_meta: model type       = 8x22B\n",
      "llm_load_print_meta: model ftype      = Q5_K - Medium\n",
      "llm_load_print_meta: model params     = 140.63 B\n",
      "llm_load_print_meta: model size       = 93.11 GiB (5.69 BPW) \n",
      "llm_load_print_meta: general.name     = models--mistralai--Mixtral-8x22B-Instruct-v0.1\n",
      "llm_load_print_meta: BOS token        = 1 '<s>'\n",
      "llm_load_print_meta: EOS token        = 2 '</s>'\n",
      "llm_load_print_meta: UNK token        = 0 '<unk>'\n",
      "llm_load_print_meta: LF token         = 781 '<0x0A>'\n"
     ]
    },
    {
     "name": "stdout",
     "output_type": "stream",
     "text": [
      "loading model...\n"
     ]
    },
    {
     "name": "stderr",
     "output_type": "stream",
     "text": [
      "ggml_cuda_init: GGML_CUDA_FORCE_MMQ:   yes\n",
      "ggml_cuda_init: CUDA_USE_TENSOR_CORES: no\n",
      "ggml_cuda_init: found 8 CUDA devices:\n",
      "  Device 0: NVIDIA A100-SXM4-80GB, compute capability 8.0, VMM: yes\n",
      "  Device 1: NVIDIA A100-SXM4-80GB, compute capability 8.0, VMM: yes\n",
      "  Device 2: NVIDIA A100-SXM4-80GB, compute capability 8.0, VMM: yes\n",
      "  Device 3: NVIDIA A100-SXM4-80GB, compute capability 8.0, VMM: yes\n",
      "  Device 4: NVIDIA A100-SXM4-80GB, compute capability 8.0, VMM: yes\n",
      "  Device 5: NVIDIA A100-SXM4-80GB, compute capability 8.0, VMM: yes\n",
      "  Device 6: NVIDIA A100-SXM4-80GB, compute capability 8.0, VMM: yes\n",
      "  Device 7: NVIDIA A100-SXM4-80GB, compute capability 8.0, VMM: yes\n",
      "llm_load_tensors: ggml ctx size =    2.51 MiB\n",
      "llm_load_tensors: offloading 56 repeating layers to GPU\n",
      "llm_load_tensors: offloading non-repeating layers to GPU\n",
      "llm_load_tensors: offloaded 57/57 layers to GPU\n",
      "llm_load_tensors:        CPU buffer size =   132.00 MiB\n",
      "llm_load_tensors:      CUDA0 buffer size = 12238.73 MiB\n",
      "llm_load_tensors:      CUDA1 buffer size = 11728.73 MiB\n",
      "llm_load_tensors:      CUDA2 buffer size = 11728.73 MiB\n",
      "llm_load_tensors:      CUDA3 buffer size = 11830.73 MiB\n",
      "llm_load_tensors:      CUDA4 buffer size = 13375.12 MiB\n",
      "llm_load_tensors:      CUDA5 buffer size = 10082.34 MiB\n",
      "llm_load_tensors:      CUDA6 buffer size = 13579.12 MiB\n",
      "llm_load_tensors:      CUDA7 buffer size = 10647.87 MiB\n",
      "....................................................................................................\n",
      "llama_new_context_with_model: n_ctx      = 4000\n",
      "llama_new_context_with_model: n_batch    = 512\n",
      "llama_new_context_with_model: n_ubatch   = 512\n",
      "llama_new_context_with_model: freq_base  = 1000000.0\n",
      "llama_new_context_with_model: freq_scale = 1\n",
      "llama_kv_cache_init:      CUDA0 KV buffer size =   109.38 MiB\n",
      "llama_kv_cache_init:      CUDA1 KV buffer size =   109.38 MiB\n",
      "llama_kv_cache_init:      CUDA2 KV buffer size =   109.38 MiB\n",
      "llama_kv_cache_init:      CUDA3 KV buffer size =   109.38 MiB\n",
      "llama_kv_cache_init:      CUDA4 KV buffer size =   125.00 MiB\n",
      "llama_kv_cache_init:      CUDA5 KV buffer size =    93.75 MiB\n",
      "llama_kv_cache_init:      CUDA6 KV buffer size =   125.00 MiB\n",
      "llama_kv_cache_init:      CUDA7 KV buffer size =    93.75 MiB\n",
      "llama_new_context_with_model: KV self size  =  875.00 MiB, K (f16):  437.50 MiB, V (f16):  437.50 MiB\n",
      "llama_new_context_with_model:  CUDA_Host  output buffer size =     0.12 MiB\n",
      "llama_new_context_with_model: pipeline parallelism enabled (n_copies=4)\n",
      "llama_new_context_with_model:      CUDA0 compute buffer size =   502.26 MiB\n",
      "llama_new_context_with_model:      CUDA1 compute buffer size =   502.26 MiB\n",
      "llama_new_context_with_model:      CUDA2 compute buffer size =   502.26 MiB\n",
      "llama_new_context_with_model:      CUDA3 compute buffer size =   502.26 MiB\n",
      "llama_new_context_with_model:      CUDA4 compute buffer size =   502.26 MiB\n",
      "llama_new_context_with_model:      CUDA5 compute buffer size =   502.26 MiB\n",
      "llama_new_context_with_model:      CUDA6 compute buffer size =   502.26 MiB\n",
      "llama_new_context_with_model:      CUDA7 compute buffer size =   502.27 MiB\n",
      "llama_new_context_with_model:  CUDA_Host compute buffer size =    43.27 MiB\n",
      "llama_new_context_with_model: graph nodes  = 2638\n",
      "llama_new_context_with_model: graph splits = 9\n",
      "AVX = 1 | AVX_VNNI = 0 | AVX2 = 1 | AVX512 = 0 | AVX512_VBMI = 0 | AVX512_VNNI = 0 | FMA = 1 | NEON = 0 | ARM_FMA = 0 | F16C = 1 | FP16_VA = 0 | WASM_SIMD = 0 | BLAS = 1 | SSE3 = 1 | SSSE3 = 1 | VSX = 0 | MATMUL_INT8 = 0 | \n",
      "Model metadata: {'split.no': '0', 'tokenizer.chat_template': \"{{bos_token}}{% for message in messages %}{% if (message['role'] == 'user') != (loop.index0 % 2 == 0) %}{{ raise_exception('Conversation roles must alternate user/assistant/user/assistant/...') }}{% endif %}{% if message['role'] == 'user' %}{{ ' [INST] ' + message['content'] + ' [/INST]' }}{% elif message['role'] == 'assistant' %}{{ ' ' + message['content'] + ' ' + eos_token}}{% else %}{{ raise_exception('Only user and assistant roles are supported!') }}{% endif %}{% endfor %}\", 'tokenizer.ggml.add_eos_token': 'false', 'split.count': '4', 'tokenizer.ggml.unknown_token_id': '0', 'tokenizer.ggml.eos_token_id': '2', 'general.quantization_version': '2', 'tokenizer.ggml.model': 'llama', 'llama.rope.dimension_count': '128', 'llama.vocab_size': '32768', 'general.architecture': 'llama', 'llama.rope.freq_base': '1000000.000000', 'tokenizer.ggml.add_bos_token': 'false', 'llama.embedding_length': '6144', 'llama.feed_forward_length': '16384', 'llama.attention.layer_norm_rms_epsilon': '0.000010', 'tokenizer.ggml.bos_token_id': '1', 'llama.attention.head_count': '48', 'llama.block_count': '56', 'llama.attention.head_count_kv': '8', 'llama.expert_count': '8', 'split.tensors.count': '563', 'llama.context_length': '65536', 'general.name': 'models--mistralai--Mixtral-8x22B-Instruct-v0.1', 'llama.expert_used_count': '2', 'general.file_type': '17'}\n",
      "Using gguf chat template: {{bos_token}}{% for message in messages %}{% if (message['role'] == 'user') != (loop.index0 % 2 == 0) %}{{ raise_exception('Conversation roles must alternate user/assistant/user/assistant/...') }}{% endif %}{% if message['role'] == 'user' %}{{ ' [INST] ' + message['content'] + ' [/INST]' }}{% elif message['role'] == 'assistant' %}{{ ' ' + message['content'] + ' ' + eos_token}}{% else %}{{ raise_exception('Only user and assistant roles are supported!') }}{% endif %}{% endfor %}\n",
      "Using chat eos_token: </s>\n",
      "Using chat bos_token: <s>\n"
     ]
    }
   ],
   "source": [
    "n_layers=400\n",
    "max_new_tokens=4000\n",
    "model_path=\"/home/hatakeyama/python/ChatServer/model/Mixtral-8x22B-Instruct-v0.1.Q5_K_M-00001-of-00004.gguf\"\n",
    "bot=GGUFBot(model_path,max_new_tokens=max_new_tokens,n_ctx=max_new_tokens,n_gpu_layers=n_layers)"
   ]
  },
  {
   "cell_type": "code",
   "execution_count": 76,
   "metadata": {},
   "outputs": [],
   "source": [
    "\n",
    "q_gen=SimpleQuestionGenerator()\n",
    "a_gen=AnswerGenerator(bot)"
   ]
  },
  {
   "cell_type": "code",
   "execution_count": 102,
   "metadata": {},
   "outputs": [
    {
     "name": "stderr",
     "output_type": "stream",
     "text": [
      "Llama.generate: prefix-match hit\n",
      "\n",
      "llama_print_timings:        load time =    1997.54 ms\n",
      "llama_print_timings:      sample time =      30.46 ms /   125 runs   (    0.24 ms per token,  4104.01 tokens per second)\n",
      "llama_print_timings: prompt eval time =    2131.30 ms /   345 tokens (    6.18 ms per token,   161.87 tokens per second)\n",
      "llama_print_timings:        eval time =    6333.63 ms /   124 runs   (   51.08 ms per token,    19.58 tokens per second)\n",
      "llama_print_timings:       total time =    8753.09 ms /   469 tokens\n",
      "Llama.generate: prefix-match hit\n",
      "\n",
      "llama_print_timings:        load time =    1997.54 ms\n",
      "llama_print_timings:      sample time =     109.66 ms /   486 runs   (    0.23 ms per token,  4431.92 tokens per second)\n",
      "llama_print_timings: prompt eval time =    1529.56 ms /   142 tokens (   10.77 ms per token,    92.84 tokens per second)\n",
      "llama_print_timings:        eval time =   27959.55 ms /   485 runs   (   57.65 ms per token,    17.35 tokens per second)\n",
      "llama_print_timings:       total time =   30631.36 ms /   627 tokens\n",
      "Llama.generate: prefix-match hit\n",
      "\n",
      "llama_print_timings:        load time =    1997.54 ms\n",
      "llama_print_timings:      sample time =     122.35 ms /   537 runs   (    0.23 ms per token,  4389.08 tokens per second)\n",
      "llama_print_timings: prompt eval time =    2599.86 ms /   446 tokens (    5.83 ms per token,   171.55 tokens per second)\n",
      "llama_print_timings:        eval time =   28438.58 ms /   536 runs   (   53.06 ms per token,    18.85 tokens per second)\n",
      "llama_print_timings:       total time =   32337.93 ms /   982 tokens\n"
     ]
    },
    {
     "data": {
      "text/plain": [
       "{'text': '法学＞民事法＞コンメンタール＞コンメンタール法の適用に関する通則法\\n(婚姻の効力)\\n第25条\\n婚姻の効力は、夫婦の本国法が同一であるときはその法により、その法がない場合において夫婦の常居所地法が同一であるときはその法により、そのいずれの法もないときは夫婦に最も密接な関係がある地の法による。\\n----\\n{{前後\\n|法の適用に関する通則法\\n|第3章 準拠法に関する通則\\n第5節親族\\n|法の適用に関する通則法第24条(婚姻の成立及び方式)\\n|法の適用に関する通則法第26条(夫婦財産制)\\n25',\n",
       " 'inst_question': '以下の文章をもとに、日本語で新しい指示を1つ作成してください。出力には､問題/質問/指示文のみを出力すること｡\\n法学＞民事法＞コンメンタール＞コンメンタール法の適用に関する通則法\\n(婚姻の効力)\\n第25条\\n婚姻の効力は、夫婦の本国法が同一であるときはその法により、その法がない場合において夫婦の常居所地法が同一であるときはその法により、そのいずれの法もないときは夫婦に最も密接な関係がある地の法による。\\n----\\n{{前後\\n|法の適用に関する通則法\\n|第3章 準拠法に関する通則\\n第5節親族\\n|法の適用に関する通則法第24条(婚姻の成立及び方式)\\n|法の適用に関する通則法第26条(夫婦財産制)\\n25',\n",
       " 'question': ' 問題: 以下の国際結婚の場合、夫婦に最も密接な関係がある地の法により、婚姻の効力はどのように定められますか。\\n① 夫婦の本国法が同一である場合\\n② 夫婦の常居所地法が同一である場合\\n③ いずれの法もない場合',\n",
       " 'inst_answer_0': '日本語でstep by stepで回答してください:  問題: 以下の国際結婚の場合、夫婦に最も密接な関係がある地の法により、婚姻の効力はどのように定められますか。\\n① 夫婦の本国法が同一である場合\\n② 夫婦の常居所地法が同一である場合\\n③ いずれの法もない場合',\n",
       " 'answer_0': ' 問題に対する解答は以下の通りです:\\n\\n1. 夫婦の本国法が同一である場合: 夫婦が同じ国籍を持っている場合、その国の法律が適用されます。このため、婚姻に関する規定は、夫婦の本国の法により決まります。\\n2. 夫婦の常居所地法が同一である場合: 夫婦が同じ国に住んでいて、その国の滞在資格を持っている場合、その国の法律が適用されます。このため、婚姻に関する規定は、夫婦の常居所地の法により決まります。\\n3. いずれの法もない場合: 夫婦が同じ国籍を持っておらず、共通の滞在資格もありません。この場合は、世界的に一般的に認められる基準により、国際私法上の原則に従います。具体的には、夫婦が結婚した場所にある国の法律が適用されますが、そうでなければ、夫婦の本国の法律と常居所地の法律を比較して、最も関係性の高い方が適用されます。\\n\\nこのように、国際結婚の場合は、夫婦に最も密接な関係がある地の法が適用されますが、その条件によって具体的なルールが異なります。',\n",
       " 'inst_answer_1': '日本語で丁寧に回答してください \\n回答にあたり､次の文章を参考にしても良い\\n法学＞民事法＞コンメンタール＞コンメンタール法の適用に関する通則法\\n(婚姻の効力)\\n第25条\\n婚姻の効力は、夫婦の本国法が同一であるときはその法により、その法がない場合において夫婦の常居所地法が同一であるときはその法により、そのいずれの法もないときは夫婦に最も密接な関係がある地の法による。\\n----\\n{{前後\\n|法の適用に関する通則法\\n|第3章 準拠法に関する通則\\n第5節親族\\n|法の適用に関する通則法第24条(婚姻の成立及び方式)\\n|法の適用に関する通則法第26条(夫婦財産制)\\n25:  問題: 以下の国際結婚の場合、夫婦に最も密接な関係がある地の法により、婚姻の効力はどのように定められますか。\\n① 夫婦の本国法が同一である場合\\n② 夫婦の常居所地法が同一である場合\\n③ いずれの法もない場合',\n",
       " 'answer_1': ' 分かりやすく説明しますと、以下のようになります。\\n\\n1. 夫婦の本国法が同一である場合: 夫婦の本国法に基づき、婚姻の効力が定められます。たとえば、両方ともフランス人の夫婦の場合は、フランス法に基づいて婚姻の効力が判断されます。\\n2. 夫婦の常居所地法が同一である場合: 両方の本国法が異なる場合、夫婦の常居所地法が同一であるときはその法に基づいて婚姻の効力が定められます。たとえば、夫がイタリア人、妻がドイツ人で共に日本に住んでいる場合、日本法に基づいて婚姻の効力が判断されます。\\n3. いずれの法もない場合: 夫婦の本国法と常居所地法が異なる場合、そのいずれの法もないときは夫婦に最も密接な関係がある地の法に基づいて婚姻の効力が定められます。たとえば、夫婦が国籍を持たない無国籍者であったり、本国や常居所が不明である場合には、最も密接な関係がある地の法が適用されます。\\n\\nこのように、国際結婚の場合においても、夫婦の本国法や常居所地法、そして最も密接な関係がある地の法を考慮して、婚姻の効力が定められます。'}"
      ]
     },
     "execution_count": 102,
     "metadata": {},
     "output_type": "execute_result"
    }
   ],
   "source": [
    "\n",
    "save_path=\"data/\"+ds_name.replace(\"/\",\"_\")+\".jsonl\"\n",
    "while True:\n",
    "    try:\n",
    "        record={}\n",
    "        record[\"text\"]=next(ds)\n",
    "        record[\"database\"]=ds_name\n",
    "        record[\"inst_question\"]=q_gen(record[\"text\"])\n",
    "        record[\"question\"]=bot.ask(record[\"inst_question\"])\n",
    "        a_gen(record)\n",
    "\n",
    "        with open(save_path,\"a\") as f:\n",
    "            f.write(json.dumps(record,ensure_ascii=False)+\"\\n\")\n",
    "    except Exception as e:\n",
    "        print(\"error\",e)\n"
   ]
  },
  {
   "cell_type": "code",
   "execution_count": 103,
   "metadata": {},
   "outputs": [],
   "source": []
  },
  {
   "cell_type": "code",
   "execution_count": null,
   "metadata": {},
   "outputs": [],
   "source": []
  },
  {
   "cell_type": "code",
   "execution_count": null,
   "metadata": {},
   "outputs": [],
   "source": []
  }
 ],
 "metadata": {
  "kernelspec": {
   "display_name": "llmeval",
   "language": "python",
   "name": "python3"
  },
  "language_info": {
   "codemirror_mode": {
    "name": "ipython",
    "version": 3
   },
   "file_extension": ".py",
   "mimetype": "text/x-python",
   "name": "python",
   "nbconvert_exporter": "python",
   "pygments_lexer": "ipython3",
   "version": "3.11.8"
  }
 },
 "nbformat": 4,
 "nbformat_minor": 2
}
