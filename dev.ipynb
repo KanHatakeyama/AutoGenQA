{
 "cells": [
  {
   "cell_type": "code",
   "execution_count": null,
   "metadata": {},
   "outputs": [],
   "source": [
    "#ライブラリの自動リロード\n",
    "%load_ext autoreload\n",
    "%autoreload 2\n",
    "\n",
    "from src.GGUFBot import GGUFBot\n",
    "from src.HFDataset import HFDataset\n",
    "from src.SimpleQuestionGenerator import SimpleQuestionGenerator\n",
    "from src.AnswerGenerator import AnswerGenerator\n",
    "import pandas as pd\n",
    "import random\n",
    "import json\n",
    "from src.GGUFEvaluator import prepare_prompt,parse_output,GGUFEvaluator"
   ]
  },
  {
   "cell_type": "code",
   "execution_count": null,
   "metadata": {},
   "outputs": [],
   "source": [
    "\n",
    "model_path=\"/home/hatakeyama/python/ChatServer/model/Mixtral-8x22B-Instruct-v0.1.Q5_K_M-00001-of-00004.gguf\"\n",
    "max_new_tokens=4000\n",
    "n_layers=400\n",
    "bot = GGUFBot(model_path, max_new_tokens=max_new_tokens, n_ctx=max_new_tokens, n_gpu_layers=n_layers)"
   ]
  },
  {
   "cell_type": "code",
   "execution_count": null,
   "metadata": {},
   "outputs": [],
   "source": [
    "txt=\"\"\"次の文章を､日本の文化に即した平易な文章に書き直してください\n",
    "#文章\n",
    "次の記事を読んで、最も適切な回答を選択してください。記事: 昔ながらの遊び - 有料の子供向け!ボールを飲みに来てください！あるいは60,000個！アメリカ全土のショッピングモールや近所に、おもちゃやゲーム、ガイド付きの楽しみ、家計に負担をかけないトレーニングなどを特徴とする、従量制の屋内遊び場を提供する新しいタイプのビジネスフランチャイズが登場している。公共の遊び場がますます磨耗して汚くなる中、営利センターでは、清潔で安全なガイド付きアクティビティや、子供の体力を伸ばすためのさまざまなやりがいのあるエクササイズを、通常は 1 時間あたり約 5 ドルの料金で提供しています。カンザスシティに本拠を置くチェーン店、ニューヨーク州ヨンカーズにある設立2か月のディスカバリー・ゾーンのオーナー、ディック・グッゲンハイマー氏は、「遊び場は汚いし、案内もされていない」と語る。安全です」。共働き世帯のニーズを満たすために、この新しいフランチャイズは、従来の公共の遊び場が暗くなって使用できなくなってからもずっと夜も営業しています。ただし、これらの新しい遊び場は保育所を目的としたものではありません。親は子供を送り出すのではなく、家にいて一緒に遊ぶことが期待されています。しかし、ハイテクベビーシッターサービスを提供しているところもあります。ディスカバリー ゾーンの一部では、親が子供を特別なガイド付きプログラムに登録した後、子供を残して数時間こっそりと映画やディナーを楽しむことができます。何か問題があれば、お父さんとお母さんが呼ばれます。しかし、何よりも楽しいのは、共働き家庭で通勤に 2 時間かかる以前の時代に親がやっていたようなこと、子供たちと遊ぶことができるようになることです。少なくとも、時間当たりの料金を考えても、これは時代遅れです。質問: この記事は主に何について話していますか? - お子様は親の世話なしで遊ぶことができます。 - ディスカバリーゾーンの急速な発展。 - 新しいタイプのキッズビジネスフランチャイズ。 - 屋外遊び場の欠点。 この質問に対する答えは次のとおりです\n",
    "#書き直した文章\n",
    "\"\"\"\n",
    "txt=\"\"\"step by stepで､日本語で回答してください\n",
    "タスクは、与えられた数学の問題に対する正しい答えを生成することです。 Q: 問題: 金は水の 19 倍、銅は水の 9 倍の重さです。水の15倍の重さの合金を得るには、これらをどのような割合で混合すればよいでしょうか? 答え: \"\"\"\n",
    "r=bot.ask(txt)\n",
    "r"
   ]
  },
  {
   "cell_type": "code",
   "execution_count": null,
   "metadata": {},
   "outputs": [],
   "source": [
    "from datasets import load_dataset\n",
    "ds=load_dataset(\"atsushi3110/cross-lingual-openorcha-830k-en-ja\",split=\"train\")\n"
   ]
  },
  {
   "cell_type": "code",
   "execution_count": 16,
   "metadata": {},
   "outputs": [
    {
     "data": {
      "text/html": [
       "<div>\n",
       "<style scoped>\n",
       "    .dataframe tbody tr th:only-of-type {\n",
       "        vertical-align: middle;\n",
       "    }\n",
       "\n",
       "    .dataframe tbody tr th {\n",
       "        vertical-align: top;\n",
       "    }\n",
       "\n",
       "    .dataframe thead th {\n",
       "        text-align: right;\n",
       "    }\n",
       "</style>\n",
       "<table border=\"1\" class=\"dataframe\">\n",
       "  <thead>\n",
       "    <tr style=\"text-align: right;\">\n",
       "      <th></th>\n",
       "      <th>database</th>\n",
       "      <th>question</th>\n",
       "    </tr>\n",
       "  </thead>\n",
       "  <tbody>\n",
       "    <tr>\n",
       "      <th>0</th>\n",
       "      <td>atsushi3110/cross-lingual-openorcha-830k-en-ja...</td>\n",
       "      <td>映画のあらすじから次の質問に対する答えを抽出してください。回答できない質問の場合は「回答でき...</td>\n",
       "    </tr>\n",
       "    <tr>\n",
       "      <th>1</th>\n",
       "      <td>atsushi3110/cross-lingual-openorcha-830k-en-ja...</td>\n",
       "      <td>「Anelik ® 送金を利用して入金する」はどうですか？ロシア語で言いましたか？\\n</td>\n",
       "    </tr>\n",
       "    <tr>\n",
       "      <th>2</th>\n",
       "      <td>atsushi3110/cross-lingual-openorcha-830k-en-ja...</td>\n",
       "      <td>詳細な手順: このタスクでは、提供されたオプションから特定の問題に対して正しいオプションを提...</td>\n",
       "    </tr>\n",
       "  </tbody>\n",
       "</table>\n",
       "</div>"
      ],
      "text/plain": [
       "                                            database  \\\n",
       "0  atsushi3110/cross-lingual-openorcha-830k-en-ja...   \n",
       "1  atsushi3110/cross-lingual-openorcha-830k-en-ja...   \n",
       "2  atsushi3110/cross-lingual-openorcha-830k-en-ja...   \n",
       "\n",
       "                                            question  \n",
       "0  映画のあらすじから次の質問に対する答えを抽出してください。回答できない質問の場合は「回答でき...  \n",
       "1        「Anelik ® 送金を利用して入金する」はどうですか？ロシア語で言いましたか？\\n  \n",
       "2  詳細な手順: このタスクでは、提供されたオプションから特定の問題に対して正しいオプションを提...  "
      ]
     },
     "execution_count": 16,
     "metadata": {},
     "output_type": "execute_result"
    },
    {
     "ename": "",
     "evalue": "",
     "output_type": "error",
     "traceback": [
      "\u001b[1;31m現在のセルまたは前のセルでコードを実行中に、カーネル (Kernel) がクラッシュしました。\n",
      "\u001b[1;31mエラーの原因を特定するには、セル内のコードを確認してください。\n",
      "\u001b[1;31m詳細については<a href='https://aka.ms/vscodeJupyterKernelCrash'>こちら</a>をクリックします。\n",
      "\u001b[1;31m詳細については、Jupyter <a href='command:jupyter.viewOutput'>ログ</a> を参照してください。"
     ]
    }
   ],
   "source": [
    "df=pd.DataFrame(ds[:10])\n",
    "df[\"database\"]=\"atsushi3110/cross-lingual-openorcha-830k-en-ja_\"+df[\"id/en\"]\n",
    "df[\"question\"]=df[\"question/ja\"]\n",
    "df=df.drop(columns=[\"response/en\",\"system_prompt/en\",\"question/ja\",\"response/ja\",\"question/en\",\"id/en\"],axis=1)\n",
    "df[:3]"
   ]
  },
  {
   "cell_type": "code",
   "execution_count": null,
   "metadata": {},
   "outputs": [],
   "source": [
    "from datasets import load_dataset\n",
    "import random\n",
    "\n",
    "\n",
    "ds_name=\"hatakeyama-llm-team/WikiBookJa\"\n",
    "ds=load_dataset(ds_name,split=\"train\")"
   ]
  },
  {
   "cell_type": "code",
   "execution_count": null,
   "metadata": {},
   "outputs": [],
   "source": [
    "inst_list=[\n",
    "\"回答文は丁寧であること\"\n",
    "\"回答文は簡潔であること\"\n",
    "\"回答文はstep by stepで作文してください\",\n",
    "]\n",
    "\n",
    "def gen_prompt(inst,text):\n",
    "    prompt_template=f\"\"\"次の文章をもとに､日本語の質問文と日本語の回答文をそれぞれ一つ生成しなさい\n",
    "    #制約\n",
    "    - {inst}\n",
    "    #文章\n",
    "    {text}\n",
    "    #質問文と回答文\n",
    "    \"\"\"\n",
    "    return prompt_template"
   ]
  },
  {
   "cell_type": "code",
   "execution_count": null,
   "metadata": {},
   "outputs": [],
   "source": [
    "record=ds[random.randint(0,len(ds))]\n",
    "prompt=gen_prompt(random.choice(inst_list)[:1000],record[\"text\"])\n",
    "r=bot.ask(prompt)"
   ]
  },
  {
   "cell_type": "code",
   "execution_count": null,
   "metadata": {},
   "outputs": [],
   "source": [
    "q,a=r.split(\"回答文\")\n",
    "q=q.replace(\"質問文\",\"\").strip()\n",
    "a=a.strip()\n",
    "if a[0]==\"：\":\n",
    "    a=a[1:]\n",
    "if q[0]==\"：\":\n",
    "    q=q[1:]\n",
    "if a[0]==\":\":\n",
    "    a=a[1:]\n",
    "if q[0]==\":\":\n",
    "    q=q[1:]\n",
    "\n",
    "a=a.strip()\n",
    "q=q.strip()\n",
    "q,a"
   ]
  },
  {
   "cell_type": "code",
   "execution_count": null,
   "metadata": {},
   "outputs": [],
   "source": [
    "r"
   ]
  },
  {
   "cell_type": "code",
   "execution_count": null,
   "metadata": {},
   "outputs": [],
   "source": []
  }
 ],
 "metadata": {
  "kernelspec": {
   "display_name": "llmeval",
   "language": "python",
   "name": "python3"
  },
  "language_info": {
   "codemirror_mode": {
    "name": "ipython",
    "version": 3
   },
   "file_extension": ".py",
   "mimetype": "text/x-python",
   "name": "python",
   "nbconvert_exporter": "python",
   "pygments_lexer": "ipython3",
   "version": "3.11.8"
  }
 },
 "nbformat": 4,
 "nbformat_minor": 2
}
