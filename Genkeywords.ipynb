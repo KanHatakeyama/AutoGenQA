{
 "cells": [
  {
   "cell_type": "code",
   "execution_count": null,
   "metadata": {},
   "outputs": [],
   "source": [
    "from datasets import load_dataset\n",
    "\n"
   ]
  },
  {
   "cell_type": "code",
   "execution_count": null,
   "metadata": {},
   "outputs": [],
   "source": [
    "ds=load_dataset(\"llm-jp/oasst2-33k-ja\",split=\"train\")"
   ]
  },
  {
   "cell_type": "code",
   "execution_count": null,
   "metadata": {},
   "outputs": [],
   "source": [
    "import MeCab\n",
    "# MeCabを使用して形態素解析\n",
    "mecab = MeCab.Tagger()\n",
    "\n",
    "def get_nouns(text):\n",
    "\n",
    "    parsed_text = mecab.parse(text)\n",
    "\n",
    "    # 名詞を抽出する\n",
    "    nouns = []\n",
    "    for line in parsed_text.split('\\n'):\n",
    "        if line == 'EOS' or line == '':\n",
    "            continue\n",
    "        parts = line.split('\\t')\n",
    "        if len(parts) > 3 and parts[4].startswith('名詞'):\n",
    "            nouns.append(parts[0])\n",
    "\n",
    "    return nouns\n",
    "\n"
   ]
  },
  {
   "cell_type": "code",
   "execution_count": null,
   "metadata": {},
   "outputs": [],
   "source": [
    "from tqdm import tqdm\n",
    "noun_list=[]\n",
    "\n",
    "for record in tqdm(ds):\n",
    "    text=record[\"conversations\"][0][\"content\"]\n",
    "    nouns=get_nouns(text)\n",
    "    if len(nouns)==0:\n",
    "        continue\n",
    "    if nouns not in noun_list:\n",
    "        noun_list.append(nouns)\n"
   ]
  },
  {
   "cell_type": "code",
   "execution_count": null,
   "metadata": {},
   "outputs": [],
   "source": [
    "import joblib\n",
    "joblib.dump(noun_list,\"oasst_noun_list.bin\")"
   ]
  },
  {
   "cell_type": "code",
   "execution_count": null,
   "metadata": {},
   "outputs": [],
   "source": [
    "import random\n",
    "nouns=random.choice(noun_list)\n",
    "nouns=random.sample(nouns,random.randint(1,len(nouns)))\n",
    "nouns"
   ]
  },
  {
   "cell_type": "code",
   "execution_count": null,
   "metadata": {},
   "outputs": [],
   "source": [
    "random.randint(1,len(nouns))"
   ]
  },
  {
   "cell_type": "code",
   "execution_count": null,
   "metadata": {},
   "outputs": [],
   "source": []
  }
 ],
 "metadata": {
  "kernelspec": {
   "display_name": "mi",
   "language": "python",
   "name": "python3"
  },
  "language_info": {
   "codemirror_mode": {
    "name": "ipython",
    "version": 3
   },
   "file_extension": ".py",
   "mimetype": "text/x-python",
   "name": "python",
   "nbconvert_exporter": "python",
   "pygments_lexer": "ipython3",
   "version": "3.11.3"
  }
 },
 "nbformat": 4,
 "nbformat_minor": 2
}
