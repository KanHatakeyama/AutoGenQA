{
 "cells": [
  {
   "cell_type": "code",
   "execution_count": 24,
   "metadata": {},
   "outputs": [],
   "source": [
    "import random\n",
    "\n",
    "def generate_number(integer=True, digits=1):\n",
    "    if integer:\n",
    "        return random.randint(10**(digits-1), 10**digits - 1)\n",
    "    else:\n",
    "        return random.uniform(10**(digits-1), 10**digits - 1)\n",
    "\n",
    "def generate_addition(integer=True, digits=1):\n",
    "    a = generate_number(integer, digits)\n",
    "    b = generate_number(integer, digits)\n",
    "    if integer:\n",
    "        question = f\"{a} + {b} =\"\n",
    "        answer = a + b\n",
    "    else:\n",
    "        question = f\"{a:.1f} + {b:.1f} =\"\n",
    "        answer = a + b\n",
    "    return question, answer\n",
    "\n",
    "def generate_subtraction(integer=True, digits=1):\n",
    "    a = generate_number(integer, digits)\n",
    "    b = generate_number(integer, digits)\n",
    "    if integer:\n",
    "        question = f\"{a} - {b} =\"\n",
    "        answer = a - b\n",
    "    else:\n",
    "        question = f\"{a:.1f} - {b:.1f} =\"\n",
    "        answer = a - b\n",
    "    return question, answer\n",
    "\n",
    "def generate_multiplication(integer=True, digits=1):\n",
    "    a = generate_number(integer, digits)\n",
    "    b = generate_number(integer, digits)\n",
    "    if integer:\n",
    "        question = f\"{a} * {b} =\"\n",
    "        answer = a * b\n",
    "    else:\n",
    "        question = f\"{a:.1f} * {b:.1f} =\"\n",
    "        answer = a * b\n",
    "    return question, answer\n",
    "\n",
    "def generate_division(integer=True, digits=1):\n",
    "    b = generate_number(integer, digits)\n",
    "    a = b * generate_number(integer, digits)\n",
    "    if integer:\n",
    "        question = f\"{a} / {b} =\"\n",
    "        answer = a / b\n",
    "    else:\n",
    "        question = f\"{a:.1f} / {b:.1f} =\"\n",
    "        answer = a / b\n",
    "    return question, answer\n",
    "\n",
    "def generate_mixed_operation(integer=True, num_terms=3, digits=1):\n",
    "    operations = ['+', '-', '*', '/']\n",
    "    terms = [generate_number(integer, digits) for _ in range(num_terms)]\n",
    "    chosen_operations = random.choices(operations, k=num_terms-1)\n",
    "    if integer:\n",
    "        question = \" \".join(f\"{terms[i]} {chosen_operations[i]}\" for i in range(num_terms-1)) + f\" {terms[-1]} =\"\n",
    "        answer = terms[0]\n",
    "        for i in range(num_terms-1):\n",
    "            if chosen_operations[i] == '+':\n",
    "                answer += terms[i+1]\n",
    "            elif chosen_operations[i] == '-':\n",
    "                answer -= terms[i+1]\n",
    "            elif chosen_operations[i] == '*':\n",
    "                answer *= terms[i+1]\n",
    "            elif chosen_operations[i] == '/':\n",
    "                answer /= terms[i+1]\n",
    "    else:\n",
    "        question = \" \".join(f\"{terms[i]:.1f} {chosen_operations[i]}\" for i in range(num_terms-1)) + f\" {terms[-1]:.1f} =\"\n",
    "        answer = terms[0]\n",
    "        for i in range(num_terms-1):\n",
    "            if chosen_operations[i] == '+':\n",
    "                answer += terms[i+1]\n",
    "            elif chosen_operations[i] == '-':\n",
    "                answer -= terms[i+1]\n",
    "            elif chosen_operations[i] == '*':\n",
    "                answer *= terms[i+1]\n",
    "            elif chosen_operations[i] == '/':\n",
    "                answer /= terms[i+1]\n",
    "\n",
    "    return question, answer\n",
    "\n",
    "def generate_problems(num_problems):\n",
    "    problems = []\n",
    "    answers = []\n",
    "\n",
    "    for _ in range(num_problems):\n",
    "        problem_type = random.choice(['addition', 'subtraction', 'multiplication', 'division', 'mixed'])\n",
    "        integer = random.choice([True, False])\n",
    "        num_terms = random.randint(2, 5)  # 2から5の項数をランダムに選択\n",
    "        digits = random.randint(1, 5)  # 1から5桁をランダムに選択\n",
    "        \n",
    "        if problem_type == 'addition':\n",
    "            q, a = generate_addition(integer, digits)\n",
    "        elif problem_type == 'subtraction':\n",
    "            q, a = generate_subtraction(integer, digits)\n",
    "        elif problem_type == 'multiplication':\n",
    "            q, a = generate_multiplication(integer, digits)\n",
    "        elif problem_type == 'division':\n",
    "            q, a = generate_division(integer, digits)\n",
    "        elif problem_type == 'mixed':\n",
    "            q, a = generate_mixed_operation(integer, num_terms, digits)\n",
    "\n",
    "        problems.append(q)\n",
    "        answers.append(f\"{q} {a:.1f}\" if not integer else f\"{q} {a}\")\n",
    "\n",
    "    return problems, answers\n",
    "\n",
    "\n"
   ]
  },
  {
   "cell_type": "code",
   "execution_count": 35,
   "metadata": {},
   "outputs": [
    {
     "name": "stderr",
     "output_type": "stream",
     "text": [
      "  0%|          | 0/1000000 [00:00<?, ?it/s]"
     ]
    },
    {
     "name": "stderr",
     "output_type": "stream",
     "text": [
      "100%|██████████| 1000000/1000000 [00:40<00:00, 24439.62it/s]\n"
     ]
    }
   ],
   "source": [
    "from tqdm import tqdm\n",
    "\n",
    "q_list = []\n",
    "a_list=[]\n",
    "n_problems=10**6\n",
    "\n",
    "for i in tqdm(range(n_problems)):\n",
    "    num_problems = random.randint(1,20)  # 任意の問題数に調整可能\n",
    "    problems, answers = generate_problems(num_problems)\n",
    "    problems = \"\\n\".join(problems)\n",
    "    answers = \"\\n\".join(answers)\n",
    "    q_list.append(problems)\n",
    "    a_list.append(answers)"
   ]
  },
  {
   "cell_type": "code",
   "execution_count": 39,
   "metadata": {},
   "outputs": [],
   "source": [
    "import pandas as pd\n",
    "df = pd.DataFrame({'question': q_list, 'answer': a_list})\n",
    "df.to_parquet(\"data/sansu.parquet\")"
   ]
  },
  {
   "cell_type": "code",
   "execution_count": 41,
   "metadata": {},
   "outputs": [
    {
     "name": "stderr",
     "output_type": "stream",
     "text": [
      "/home/hatakeyama/miniconda3/envs/llmeval/lib/python3.11/site-packages/tqdm/auto.py:21: TqdmWarning: IProgress not found. Please update jupyter and ipywidgets. See https://ipywidgets.readthedocs.io/en/stable/user_install.html\n",
      "  from .autonotebook import tqdm as notebook_tqdm\n",
      "sansu.parquet: 100%|██████████| 317M/317M [00:24<00:00, 13.0MB/s]    \n"
     ]
    },
    {
     "data": {
      "text/plain": [
       "CommitInfo(commit_url='https://huggingface.co/datasets/kanhatakeyama/Sansu/commit/2443d64a775ca9aed5eb0102aab84e18ea860487', commit_message='Upload 1.parquet with huggingface_hub', commit_description='', oid='2443d64a775ca9aed5eb0102aab84e18ea860487', pr_url=None, pr_revision=None, pr_num=None)"
      ]
     },
     "execution_count": 41,
     "metadata": {},
     "output_type": "execute_result"
    }
   ],
   "source": [
    "from huggingface_hub import HfApi, logging\n",
    "hf = HfApi()\n",
    "hf.upload_file(path_or_fileobj=\"data/sansu.parquet\",\n",
    "                path_in_repo=f\"1.parquet\",\n",
    "                repo_id=\"kanhatakeyama/Sansu\", repo_type=\"dataset\")\n",
    "\n",
    "\n"
   ]
  },
  {
   "cell_type": "code",
   "execution_count": null,
   "metadata": {},
   "outputs": [],
   "source": []
  }
 ],
 "metadata": {
  "kernelspec": {
   "display_name": "llmeval",
   "language": "python",
   "name": "python3"
  },
  "language_info": {
   "codemirror_mode": {
    "name": "ipython",
    "version": 3
   },
   "file_extension": ".py",
   "mimetype": "text/x-python",
   "name": "python",
   "nbconvert_exporter": "python",
   "pygments_lexer": "ipython3",
   "version": "3.11.8"
  }
 },
 "nbformat": 4,
 "nbformat_minor": 2
}
