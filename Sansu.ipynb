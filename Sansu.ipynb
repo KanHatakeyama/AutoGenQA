{
 "cells": [
  {
   "cell_type": "code",
   "execution_count": 1,
   "metadata": {},
   "outputs": [],
   "source": [
    "import random\n",
    "\n",
    "def generate_number(integer=True, digits=1):\n",
    "    if integer:\n",
    "        if random.choice([True, False]):\n",
    "            return random.randint(10**(digits-1), 10**digits - 1)\n",
    "        else:\n",
    "            return -random.randint(10**(digits-1), 10**digits - 1)\n",
    "    else:\n",
    "        # ランダムにTrueまたはFalseを選択して正または負の数を生成\n",
    "        if random.choice([True, False]):\n",
    "            number = random.uniform(10**(digits-1), 10**digits - 1)\n",
    "        else:\n",
    "            number = -random.uniform(10**(digits-1), 10**digits - 1)\n",
    "        \n",
    "        # 四捨五入する桁数をランダムに決定\n",
    "        rounding_digits = random.randint(-digits, digits-1)\n",
    "        \n",
    "        # 四捨五入\n",
    "        rounded_number = round(number, rounding_digits)\n",
    "        return rounded_number\n",
    "\n",
    "def format_number(n, index):\n",
    "    if index == 0:\n",
    "        return str(n)\n",
    "    return f\"({n})\" if n < 0 else str(n)\n",
    "\n",
    "def generate_addition(integer=True, digits=1):\n",
    "    a = generate_number(integer, digits)\n",
    "    b = generate_number(integer, digits)\n",
    "    question = f\"{format_number(a, 0)} + {format_number(b, 1)} =\"\n",
    "    answer = a + b\n",
    "    return question, answer\n",
    "\n",
    "def generate_subtraction(integer=True, digits=1):\n",
    "    a = generate_number(integer, digits)\n",
    "    b = generate_number(integer, digits)\n",
    "    question = f\"{format_number(a, 0)} - {format_number(b, 1)} =\"\n",
    "    answer = a - b\n",
    "    return question, answer\n",
    "\n",
    "def generate_multiplication(integer=True, digits=1):\n",
    "    a = generate_number(integer, digits)\n",
    "    b = generate_number(integer, digits)\n",
    "    question = f\"{format_number(a, 0)} * {format_number(b, 1)} =\"\n",
    "    answer = a * b\n",
    "    return question, answer\n",
    "\n",
    "def generate_division(integer=True, digits=1):\n",
    "    while True:\n",
    "        b = generate_number(integer, digits)\n",
    "        if b != 0:  # 分母がゼロでないことを確認\n",
    "            break\n",
    "    a = b * generate_number(integer, digits)\n",
    "    question = f\"{format_number(a, 0)} / {format_number(b, 1)} =\"\n",
    "    answer = a / b\n",
    "    return question, answer\n",
    "\n",
    "def generate_mixed_operation(integer=True, num_terms=3, digits=1):\n",
    "    operations = ['+', '-', '*', '/']\n",
    "    terms = [generate_number(integer, digits) for _ in range(num_terms)]\n",
    "    chosen_operations = random.choices(operations, k=num_terms-1)\n",
    "    answer = terms[0]\n",
    "    question_parts = [format_number(terms[0], 0)]\n",
    "\n",
    "    for i in range(num_terms-1):\n",
    "        operation = chosen_operations[i]\n",
    "        if operation == '/' and terms[i+1] == 0:\n",
    "            terms[i+1] = 1  # 分母がゼロの場合は1に置き換え\n",
    "        question_parts.append(f\"{operation} {format_number(terms[i+1], i+1)}\")\n",
    "        if operation == '+':\n",
    "            answer += terms[i+1]\n",
    "        elif operation == '-':\n",
    "            answer -= terms[i+1]\n",
    "        elif operation == '*':\n",
    "            answer *= terms[i+1]\n",
    "        elif operation == '/':\n",
    "            answer /= terms[i+1]\n",
    "\n",
    "    question = \" \".join(question_parts) + \" =\"\n",
    "    return question, answer\n",
    "\n",
    "def generate_problems(num_problems):\n",
    "    problems = []\n",
    "    answers = []\n",
    "\n",
    "    for _ in range(num_problems):\n",
    "        problem_type = random.choice(['addition', 'subtraction', 'multiplication', 'division', 'mixed'])\n",
    "        integer = random.choice([True, True, True, True, True, True, False])\n",
    "        num_terms = random.randint(2, 4)  # 2から4の項数をランダムに選択\n",
    "        digits = random.randint(1, 4)  # 1から4桁をランダムに選択\n",
    "        \n",
    "        if problem_type == 'addition':\n",
    "            q, a = generate_addition(integer, digits)\n",
    "        elif problem_type == 'subtraction':\n",
    "            q, a = generate_subtraction(integer, digits)\n",
    "        elif problem_type == 'multiplication':\n",
    "            q, a = generate_multiplication(integer, digits)\n",
    "        elif problem_type == 'division':\n",
    "            q, a = generate_division(integer, digits)\n",
    "        elif problem_type == 'mixed':\n",
    "            q, a = generate_mixed_operation(integer, num_terms, digits)\n",
    "        problems.append(q)\n",
    "        answers.append(f\"{q} {a:.1f}\" if not integer else f\"{q} {a}\")\n",
    "\n",
    "    return problems, answers\n"
   ]
  },
  {
   "cell_type": "code",
   "execution_count": 2,
   "metadata": {},
   "outputs": [
    {
     "name": "stderr",
     "output_type": "stream",
     "text": [
      "  0%|          | 0/2000000 [00:00<?, ?it/s]"
     ]
    },
    {
     "name": "stderr",
     "output_type": "stream",
     "text": [
      "100%|██████████| 2000000/2000000 [01:37<00:00, 20513.22it/s]\n"
     ]
    }
   ],
   "source": [
    "from tqdm import tqdm\n",
    "\n",
    "q_list = []\n",
    "a_list=[]\n",
    "n_problems=2*10**6\n",
    "\n",
    "for i in tqdm(range(n_problems)):\n",
    "    num_problems = random.randint(1,20)  # 任意の問題数に調整可能\n",
    "    problems, answers = generate_problems(num_problems)\n",
    "    problems = \"\\n\".join(problems)\n",
    "    answers = \"\\n\".join(answers)\n",
    "    q_list.append(problems)\n",
    "    a_list.append(answers)"
   ]
  },
  {
   "cell_type": "code",
   "execution_count": 3,
   "metadata": {},
   "outputs": [],
   "source": [
    "import pandas as pd\n",
    "df = pd.DataFrame({'question': q_list, 'answer': a_list})\n",
    "df.to_parquet(\"data/sansu.parquet\")"
   ]
  },
  {
   "cell_type": "code",
   "execution_count": 4,
   "metadata": {},
   "outputs": [
    {
     "name": "stderr",
     "output_type": "stream",
     "text": [
      "/home/hatakeyama/miniconda3/envs/llmeval/lib/python3.11/site-packages/tqdm/auto.py:21: TqdmWarning: IProgress not found. Please update jupyter and ipywidgets. See https://ipywidgets.readthedocs.io/en/stable/user_install.html\n",
      "  from .autonotebook import tqdm as notebook_tqdm\n",
      "sansu.parquet: 100%|██████████| 537M/537M [06:49<00:00, 1.31MB/s]    \n"
     ]
    },
    {
     "data": {
      "text/plain": [
       "CommitInfo(commit_url='https://huggingface.co/datasets/kanhatakeyama/Sansu/commit/a78b39b9837c0278000872c8df6403733c805c91', commit_message='Upload 1.parquet with huggingface_hub', commit_description='', oid='a78b39b9837c0278000872c8df6403733c805c91', pr_url=None, pr_revision=None, pr_num=None)"
      ]
     },
     "execution_count": 4,
     "metadata": {},
     "output_type": "execute_result"
    }
   ],
   "source": [
    "from huggingface_hub import HfApi, logging\n",
    "hf = HfApi()\n",
    "hf.upload_file(path_or_fileobj=\"data/sansu.parquet\",\n",
    "                path_in_repo=f\"1.parquet\",\n",
    "                repo_id=\"kanhatakeyama/Sansu\", repo_type=\"dataset\")\n",
    "\n",
    "\n"
   ]
  },
  {
   "cell_type": "code",
   "execution_count": 5,
   "metadata": {},
   "outputs": [
    {
     "name": "stdout",
     "output_type": "stream",
     "text": [
      "348 + (-594) =\n",
      "1404 * 4089 / 6837 =\n",
      "10000.0 * 3782.55 / (-9666.7) * 6538.413 =\n",
      "-2 + 6 =\n",
      "58118208 / 8628 =\n",
      "-2543 - (-2872) =\n",
      "5399 / (-9218) + (-9427) =\n",
      "-3 - (-8) * 9 =\n",
      "-2865 + (-1018) =\n",
      "75366 / 237 =\n",
      "-8805 - 1524 =\n",
      "3709 + 2167 =\n",
      "794.64 * 930.0 =\n",
      "8300.0 + 6259.9 =\n",
      "-30 - 53 =\n",
      "-272 - 946 =\n"
     ]
    }
   ],
   "source": [
    "print(problems)"
   ]
  },
  {
   "cell_type": "code",
   "execution_count": 6,
   "metadata": {},
   "outputs": [
    {
     "name": "stdout",
     "output_type": "stream",
     "text": [
      "348 + (-594) = -246\n",
      "1404 * 4089 / 6837 = 839.6893374286968\n",
      "10000.0 * 3782.55 / (-9666.7) * 6538.413 = -25584609.1\n",
      "-2 + 6 = 4\n",
      "58118208 / 8628 = 6736.0\n",
      "-2543 - (-2872) = 329\n",
      "5399 / (-9218) + (-9427) = -9427.58570188761\n",
      "-3 - (-8) * 9 = 45\n",
      "-2865 + (-1018) = -3883\n",
      "75366 / 237 = 318.0\n",
      "-8805 - 1524 = -10329\n",
      "3709 + 2167 = 5876\n",
      "794.64 * 930.0 = 739015.2\n",
      "8300.0 + 6259.9 = 14559.9\n",
      "-30 - 53 = -83\n",
      "-272 - 946 = -1218\n"
     ]
    }
   ],
   "source": [
    "print(answers)"
   ]
  },
  {
   "cell_type": "code",
   "execution_count": null,
   "metadata": {},
   "outputs": [],
   "source": []
  }
 ],
 "metadata": {
  "kernelspec": {
   "display_name": "llmeval",
   "language": "python",
   "name": "python3"
  },
  "language_info": {
   "codemirror_mode": {
    "name": "ipython",
    "version": 3
   },
   "file_extension": ".py",
   "mimetype": "text/x-python",
   "name": "python",
   "nbconvert_exporter": "python",
   "pygments_lexer": "ipython3",
   "version": "3.11.8"
  }
 },
 "nbformat": 4,
 "nbformat_minor": 2
}
