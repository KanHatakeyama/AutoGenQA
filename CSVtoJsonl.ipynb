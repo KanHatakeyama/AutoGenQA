{
 "cells": [
  {
   "cell_type": "code",
   "execution_count": 1,
   "metadata": {},
   "outputs": [],
   "source": [
    "import pandas as pd\n",
    "import json"
   ]
  },
  {
   "cell_type": "code",
   "execution_count": 5,
   "metadata": {},
   "outputs": [
    {
     "data": {
      "text/html": [
       "<div>\n",
       "<style scoped>\n",
       "    .dataframe tbody tr th:only-of-type {\n",
       "        vertical-align: middle;\n",
       "    }\n",
       "\n",
       "    .dataframe tbody tr th {\n",
       "        vertical-align: top;\n",
       "    }\n",
       "\n",
       "    .dataframe thead th {\n",
       "        text-align: right;\n",
       "    }\n",
       "</style>\n",
       "<table border=\"1\" class=\"dataframe\">\n",
       "  <thead>\n",
       "    <tr style=\"text-align: right;\">\n",
       "      <th></th>\n",
       "      <th>question</th>\n",
       "      <th>answer</th>\n",
       "      <th>database</th>\n",
       "    </tr>\n",
       "  </thead>\n",
       "  <tbody>\n",
       "    <tr>\n",
       "      <th>0</th>\n",
       "      <td>元気ですか?</td>\n",
       "      <td>はい、元気です。何かお困りのことがあれば、教えてください。</td>\n",
       "      <td>misc</td>\n",
       "    </tr>\n",
       "    <tr>\n",
       "      <th>1</th>\n",
       "      <td>日本語で、先生として回答します。以下の問題・指示を提供させていただきます。\\n\\n新たな課題...</td>\n",
       "      <td>改善後の文章：\\n日常的に学校へ通******/*****教育を受けることが出来るという貴重...</td>\n",
       "      <td>misc</td>\n",
       "    </tr>\n",
       "    <tr>\n",
       "      <th>2</th>\n",
       "      <td>Eさんが「遅れていないか」と質問したのに、Fさんは「時間的に余裕があります」と答えました。こ...</td>\n",
       "      <td>この場合、Fさんの発言を「はい」で置き換えることができます。「時間的に余裕があります」という...</td>\n",
       "      <td>misc</td>\n",
       "    </tr>\n",
       "  </tbody>\n",
       "</table>\n",
       "</div>"
      ],
      "text/plain": [
       "                                            question  \\\n",
       "0                                             元気ですか?   \n",
       "1  日本語で、先生として回答します。以下の問題・指示を提供させていただきます。\\n\\n新たな課題...   \n",
       "2  Eさんが「遅れていないか」と質問したのに、Fさんは「時間的に余裕があります」と答えました。こ...   \n",
       "\n",
       "                                              answer database  \n",
       "0                      はい、元気です。何かお困りのことがあれば、教えてください。     misc  \n",
       "1  改善後の文章：\\n日常的に学校へ通******/*****教育を受けることが出来るという貴重...     misc  \n",
       "2  この場合、Fさんの発言を「はい」で置き換えることができます。「時間的に余裕があります」という...     misc  "
      ]
     },
     "execution_count": 5,
     "metadata": {},
     "output_type": "execute_result"
    }
   ],
   "source": [
    "target_path=\"data/online/sharegpt.csv\"\n",
    "target_path=\"data/raw_qa/llmchat/LLMChat0511_sharegpt.csv\"\n",
    "target_path=\"data/raw_qa/llmchat/LLMChat0511.csv\"\n",
    "import pandas as pd\n",
    "df=pd.read_csv(target_path)\n",
    "#df[\"database\"]=\"sharegpt and original\"\n",
    "df[:3]"
   ]
  },
  {
   "cell_type": "code",
   "execution_count": 6,
   "metadata": {},
   "outputs": [],
   "source": [
    "name=target_path.split(\"/\")[-1].split(\".\")[0]\n",
    "\n",
    "df.to_json(f'data/{name}.jsonl', orient='records', force_ascii=False, lines=True)\n"
   ]
  },
  {
   "cell_type": "code",
   "execution_count": null,
   "metadata": {},
   "outputs": [],
   "source": []
  }
 ],
 "metadata": {
  "kernelspec": {
   "display_name": "llmeval",
   "language": "python",
   "name": "python3"
  },
  "language_info": {
   "codemirror_mode": {
    "name": "ipython",
    "version": 3
   },
   "file_extension": ".py",
   "mimetype": "text/x-python",
   "name": "python",
   "nbconvert_exporter": "python",
   "pygments_lexer": "ipython3",
   "version": "3.11.8"
  }
 },
 "nbformat": 4,
 "nbformat_minor": 2
}
