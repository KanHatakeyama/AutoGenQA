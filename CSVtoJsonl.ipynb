{
 "cells": [
  {
   "cell_type": "code",
   "execution_count": 1,
   "metadata": {},
   "outputs": [],
   "source": [
    "import pandas as pd\n",
    "import json"
   ]
  },
  {
   "cell_type": "code",
   "execution_count": 2,
   "metadata": {},
   "outputs": [
    {
     "data": {
      "text/html": [
       "<div>\n",
       "<style scoped>\n",
       "    .dataframe tbody tr th:only-of-type {\n",
       "        vertical-align: middle;\n",
       "    }\n",
       "\n",
       "    .dataframe tbody tr th {\n",
       "        vertical-align: top;\n",
       "    }\n",
       "\n",
       "    .dataframe thead th {\n",
       "        text-align: right;\n",
       "    }\n",
       "</style>\n",
       "<table border=\"1\" class=\"dataframe\">\n",
       "  <thead>\n",
       "    <tr style=\"text-align: right;\">\n",
       "      <th></th>\n",
       "      <th>question</th>\n",
       "      <th>answer</th>\n",
       "      <th>database</th>\n",
       "    </tr>\n",
       "  </thead>\n",
       "  <tbody>\n",
       "    <tr>\n",
       "      <th>0</th>\n",
       "      <td>カチンコとパチンコの違いについて</td>\n",
       "      <td>はい、分かりました。\\n\\nカチンコとパチンコは両方とも日本で人気のあるゲームですが、それぞ...</td>\n",
       "      <td>misc</td>\n",
       "    </tr>\n",
       "    <tr>\n",
       "      <th>1</th>\n",
       "      <td>深層学習の性能について質問です．「我々の計算機が有限桁しか計算できないことによって，実質的な...</td>\n",
       "      <td>申し訳ございませんが、「我々の計算機が有限桁しか計算できないことによって，実質的なearly...</td>\n",
       "      <td>misc</td>\n",
       "    </tr>\n",
       "    <tr>\n",
       "      <th>2</th>\n",
       "      <td>Pythonでフィボナッチ数列のn項目を計算するプログラムを書いて。メモ化再帰してね！</td>\n",
       "      <td>以下は、Pythonでメモ化再帰を用いたフィボナッチ数列のn項目を求めるコードです。\\n\\n...</td>\n",
       "      <td>misc</td>\n",
       "    </tr>\n",
       "  </tbody>\n",
       "</table>\n",
       "</div>"
      ],
      "text/plain": [
       "                                            question  \\\n",
       "0                                   カチンコとパチンコの違いについて   \n",
       "1  深層学習の性能について質問です．「我々の計算機が有限桁しか計算できないことによって，実質的な...   \n",
       "2        Pythonでフィボナッチ数列のn項目を計算するプログラムを書いて。メモ化再帰してね！   \n",
       "\n",
       "                                              answer database  \n",
       "0  はい、分かりました。\\n\\nカチンコとパチンコは両方とも日本で人気のあるゲームですが、それぞ...     misc  \n",
       "1  申し訳ございませんが、「我々の計算機が有限桁しか計算できないことによって，実質的なearly...     misc  \n",
       "2  以下は、Pythonでメモ化再帰を用いたフィボナッチ数列のn項目を求めるコードです。\\n\\n...     misc  "
      ]
     },
     "execution_count": 2,
     "metadata": {},
     "output_type": "execute_result"
    }
   ],
   "source": [
    "target_path=\"data/online/sharegpt.csv\"\n",
    "target_path=\"data/raw_qa/llmchat/LLMChat0511_sharegpt.csv\"\n",
    "target_path=\"data/raw_qa/llmchat/LLMChat0511.csv\"\n",
    "target_path=\"data/raw_qa/llmchat/0514llmchat.csv\"\n",
    "import pandas as pd\n",
    "df=pd.read_csv(target_path)\n",
    "#df[\"database\"]=\"sharegpt and original\"\n",
    "df[:3]"
   ]
  },
  {
   "cell_type": "code",
   "execution_count": 3,
   "metadata": {},
   "outputs": [],
   "source": [
    "name=target_path.split(\"/\")[-1].split(\".\")[0]\n",
    "\n",
    "df.to_json(f'data/{name}.jsonl', orient='records', force_ascii=False, lines=True)\n"
   ]
  },
  {
   "cell_type": "code",
   "execution_count": null,
   "metadata": {},
   "outputs": [],
   "source": []
  }
 ],
 "metadata": {
  "kernelspec": {
   "display_name": "llmeval",
   "language": "python",
   "name": "python3"
  },
  "language_info": {
   "codemirror_mode": {
    "name": "ipython",
    "version": 3
   },
   "file_extension": ".py",
   "mimetype": "text/x-python",
   "name": "python",
   "nbconvert_exporter": "python",
   "pygments_lexer": "ipython3",
   "version": "3.11.8"
  }
 },
 "nbformat": 4,
 "nbformat_minor": 2
}
