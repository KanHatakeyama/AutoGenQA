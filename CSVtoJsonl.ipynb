{
 "cells": [
  {
   "cell_type": "code",
   "execution_count": 1,
   "metadata": {},
   "outputs": [],
   "source": [
    "import pandas as pd\n",
    "import json"
   ]
  },
  {
   "cell_type": "code",
   "execution_count": 6,
   "metadata": {},
   "outputs": [
    {
     "data": {
      "text/html": [
       "<div>\n",
       "<style scoped>\n",
       "    .dataframe tbody tr th:only-of-type {\n",
       "        vertical-align: middle;\n",
       "    }\n",
       "\n",
       "    .dataframe tbody tr th {\n",
       "        vertical-align: top;\n",
       "    }\n",
       "\n",
       "    .dataframe thead th {\n",
       "        text-align: right;\n",
       "    }\n",
       "</style>\n",
       "<table border=\"1\" class=\"dataframe\">\n",
       "  <thead>\n",
       "    <tr style=\"text-align: right;\">\n",
       "      <th></th>\n",
       "      <th>question</th>\n",
       "      <th>answer_0</th>\n",
       "      <th>answer_1</th>\n",
       "      <th>database</th>\n",
       "    </tr>\n",
       "  </thead>\n",
       "  <tbody>\n",
       "    <tr>\n",
       "      <th>0</th>\n",
       "      <td>彼女は腹部形成手術をしたいと思っています。あなたは、「Tummy Tuck Baby」という...</td>\n",
       "      <td>はい、私はそれが可能です。以下にあなたのリクエストを満たす歌詞を示します：\\n\\n「Tumm...</td>\n",
       "      <td>はい、できます。以下に示します：\\n\\n(「Tummy Tuck Baby」)\\n\\nTum...</td>\n",
       "      <td>sharegpt and original</td>\n",
       "    </tr>\n",
       "    <tr>\n",
       "      <th>1</th>\n",
       "      <td>BMI計算機の課題に対する学生のコードについてフィードバックを提供していただけませんか？先生...</td>\n",
       "      <td>学生のコードについてフィードバックします。\\n\\n1. ユーザー入力: ユーザーに重量と高さ...</td>\n",
       "      <td>感謝します。以下、学生のコードに関するフィードバックです：\\n\\n1. ユーザーが重量と高さ...</td>\n",
       "      <td>sharegpt and original</td>\n",
       "    </tr>\n",
       "    <tr>\n",
       "      <th>2</th>\n",
       "      <td>過学習を引き起こしている深層ニューラルネットワークモデルがあります。次の設定を使用してモデル...</td>\n",
       "      <td>過学習が起きている可能性が高そうですね。一般的に過学習を防ぐためには以下のような方法がありま...</td>\n",
       "      <td>ありがとうございます。\\n\\n提示された設定から、過学習を引き起こす原因として考えられるのは...</td>\n",
       "      <td>sharegpt and original</td>\n",
       "    </tr>\n",
       "  </tbody>\n",
       "</table>\n",
       "</div>"
      ],
      "text/plain": [
       "                                            question  \\\n",
       "0  彼女は腹部形成手術をしたいと思っています。あなたは、「Tummy Tuck Baby」という...   \n",
       "1  BMI計算機の課題に対する学生のコードについてフィードバックを提供していただけませんか？先生...   \n",
       "2  過学習を引き起こしている深層ニューラルネットワークモデルがあります。次の設定を使用してモデル...   \n",
       "\n",
       "                                            answer_0  \\\n",
       "0  はい、私はそれが可能です。以下にあなたのリクエストを満たす歌詞を示します：\\n\\n「Tumm...   \n",
       "1  学生のコードについてフィードバックします。\\n\\n1. ユーザー入力: ユーザーに重量と高さ...   \n",
       "2  過学習が起きている可能性が高そうですね。一般的に過学習を防ぐためには以下のような方法がありま...   \n",
       "\n",
       "                                            answer_1               database  \n",
       "0  はい、できます。以下に示します：\\n\\n(「Tummy Tuck Baby」)\\n\\nTum...  sharegpt and original  \n",
       "1  感謝します。以下、学生のコードに関するフィードバックです：\\n\\n1. ユーザーが重量と高さ...  sharegpt and original  \n",
       "2  ありがとうございます。\\n\\n提示された設定から、過学習を引き起こす原因として考えられるのは...  sharegpt and original  "
      ]
     },
     "execution_count": 6,
     "metadata": {},
     "output_type": "execute_result"
    }
   ],
   "source": [
    "target_path=\"data/online/sharegpt.csv\"\n",
    "import pandas as pd\n",
    "df=pd.read_csv(target_path)\n",
    "df[\"database\"]=\"sharegpt and original\"\n",
    "df[:3]"
   ]
  },
  {
   "cell_type": "code",
   "execution_count": 7,
   "metadata": {},
   "outputs": [],
   "source": [
    "df.to_json('data/sharept.jsonl', orient='records', force_ascii=False, lines=True)"
   ]
  },
  {
   "cell_type": "code",
   "execution_count": null,
   "metadata": {},
   "outputs": [],
   "source": []
  }
 ],
 "metadata": {
  "kernelspec": {
   "display_name": "llmeval",
   "language": "python",
   "name": "python3"
  },
  "language_info": {
   "codemirror_mode": {
    "name": "ipython",
    "version": 3
   },
   "file_extension": ".py",
   "mimetype": "text/x-python",
   "name": "python",
   "nbconvert_exporter": "python",
   "pygments_lexer": "ipython3",
   "version": "3.11.8"
  }
 },
 "nbformat": 4,
 "nbformat_minor": 2
}
