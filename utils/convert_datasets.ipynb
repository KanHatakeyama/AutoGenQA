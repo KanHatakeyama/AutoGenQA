{
 "cells": [
  {
   "cell_type": "code",
   "execution_count": 1,
   "metadata": {},
   "outputs": [],
   "source": [
    "import json\n",
    "\n",
    "#dolly\n",
    "input_path=\"../data/public/databricks-dolly-15k-ja.json\"\n"
   ]
  },
  {
   "cell_type": "code",
   "execution_count": 5,
   "metadata": {},
   "outputs": [],
   "source": [
    "with open(input_path, \"r\") as f:\n",
    "    data = json.load(f)\n",
    "\n",
    "records=[]\n",
    "\n",
    "for record in data:\n",
    "\n",
    "    txt=record[\"instruction\"]+\"\\n\"+record[\"input\"]\n",
    "    txt=txt.strip()\n",
    "    d={\n",
    "        \"q\": txt,\n",
    "        \"a\": record[\"output\"],\n",
    "\n",
    "    }\n",
    "    records.append(d)"
   ]
  },
  {
   "cell_type": "code",
   "execution_count": 7,
   "metadata": {},
   "outputs": [],
   "source": [
    "with open(\"../data/public/databricks-dolly-15k-ja_conv.jsonl\", \"w\") as f:\n",
    "    for record in records:\n",
    "        f.write(json.dumps(record, ensure_ascii=False))\n",
    "        f.write(\"\\n\")"
   ]
  },
  {
   "cell_type": "code",
   "execution_count": null,
   "metadata": {},
   "outputs": [],
   "source": [
    "# share gpt -ja\n",
    "#出力はGPTなので､入力のみを使う"
   ]
  }
 ],
 "metadata": {
  "kernelspec": {
   "display_name": "llmeval",
   "language": "python",
   "name": "python3"
  },
  "language_info": {
   "codemirror_mode": {
    "name": "ipython",
    "version": 3
   },
   "file_extension": ".py",
   "mimetype": "text/x-python",
   "name": "python",
   "nbconvert_exporter": "python",
   "pygments_lexer": "ipython3",
   "version": "3.11.8"
  }
 },
 "nbformat": 4,
 "nbformat_minor": 2
}
