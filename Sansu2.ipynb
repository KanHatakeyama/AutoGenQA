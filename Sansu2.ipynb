{
 "cells": [
  {
   "cell_type": "code",
   "execution_count": null,
   "metadata": {},
   "outputs": [],
   "source": []
  },
  {
   "cell_type": "code",
   "execution_count": 20,
   "metadata": {},
   "outputs": [],
   "source": [
    "\"\"\"\n",
    "本番はこっち｡\n",
    "以下は、タスクを説明する指示と、文脈のある入力の組み合わせです。要求を適切に満たす応答を書きなさい\n",
    "\"\"\"\n",
    "\n",
    "#question_template=\"### 指示：以下の質問に答えなさい。 ### 質問：\"\n",
    "question_template=\"以下は、タスクを説明する指示と、文脈のある入力の組み合わせです。要求を適切に満たす応答を書きなさい。\\n\\n### 指示:\\n\"\n",
    "answer_template=\"\\n\\n### 応答:\\n\""
   ]
  },
  {
   "cell_type": "code",
   "execution_count": 63,
   "metadata": {},
   "outputs": [
    {
     "name": "stdout",
     "output_type": "stream",
     "text": [
      "324\n",
      "11664\n",
      "419904\n"
     ]
    }
   ],
   "source": [
    "\n",
    "from itertools import product, permutations\n",
    "import json\n",
    "\n",
    "def calculate_combinations(repeat):\n",
    "    # 一桁の数字\n",
    "    digits = list(range(1, 10))\n",
    "\n",
    "    # 四則演算の演算子\n",
    "    operators = ['+', '-', '*', '/']\n",
    "\n",
    "    # 組み合わせの生成\n",
    "    digit_combinations = product(digits, repeat=repeat)\n",
    "    #for digits in digit_combinations:\n",
    "    #    print(digits)\n",
    "\n",
    "    operator_combinations = product(operators, repeat=repeat-1)\n",
    "\n",
    "    results = []\n",
    "\n",
    "    for digits in digit_combinations:\n",
    "        # なぜか、毎回初期化するとうまく動作する\n",
    "        operator_combinations = product(operators, repeat=repeat-1)\n",
    "        for ops in operator_combinations:\n",
    "            if len(digits)==2:\n",
    "                expression = f\"{digits[0]} {ops[0]} {digits[1]}\"\n",
    "            elif len(digits)==3:\n",
    "                expression = f\"{digits[0]} {ops[0]} {digits[1]} {ops[1]} {digits[2]}\"\n",
    "            elif len(digits)==4:\n",
    "                expression = f\"{digits[0]} {ops[0]} {digits[1]} {ops[1]} {digits[2]} {ops[2]} {digits[3]}\"\n",
    "            try:\n",
    "                # 計算を実行して結果を取得\n",
    "                result = eval(expression)\n",
    "                line=make_qa_line(\"次の計算をしなさい｡計算結果だけを出力すること｡\", expression, result)\n",
    "                results.append(line)\n",
    "                #with open(\"/content/arithmetic3.jsonl\",\"a\") as f:\n",
    "                #    f.write(line+\"\\n\")\n",
    "            except Exception as e:\n",
    "                print(f\"エラー: {e} in {expression}\")\n",
    "                continue\n",
    "\n",
    "    return results\n",
    "\n",
    "def make_qa_line(inp, q, a):\n",
    "    text=f\"{question_template}{inp}\\n{q}{answer_template}{a}\"\n",
    "    return text\n",
    "\n",
    "\n",
    "# 計算結果を取得して印字\n",
    "calc_problems=[]\n",
    "\n",
    "for i in range(2,5):\n",
    "    results = calculate_combinations(i)\n",
    "    results=list(set(results))\n",
    "    print(len(results))\n",
    "    calc_problems.extend(results)"
   ]
  },
  {
   "cell_type": "code",
   "execution_count": 65,
   "metadata": {},
   "outputs": [
    {
     "name": "stdout",
     "output_type": "stream",
     "text": [
      "以下は、タスクを説明する指示と、文脈のある入力の組み合わせです。要求を適切に満たす応答を書きなさい。\n",
      "\n",
      "### 指示:\n",
      "次の計算をしなさい｡計算結果だけを出力すること｡\n",
      "3 * 6 * 9 - 8\n",
      "\n",
      "### 応答:\n",
      "154\n"
     ]
    }
   ],
   "source": [
    "print(calc_problems[-1])"
   ]
  },
  {
   "cell_type": "code",
   "execution_count": null,
   "metadata": {},
   "outputs": [],
   "source": []
  }
 ],
 "metadata": {
  "kernelspec": {
   "display_name": "llmeval",
   "language": "python",
   "name": "python3"
  },
  "language_info": {
   "codemirror_mode": {
    "name": "ipython",
    "version": 3
   },
   "file_extension": ".py",
   "mimetype": "text/x-python",
   "name": "python",
   "nbconvert_exporter": "python",
   "pygments_lexer": "ipython3",
   "version": "3.11.8"
  }
 },
 "nbformat": 4,
 "nbformat_minor": 2
}
