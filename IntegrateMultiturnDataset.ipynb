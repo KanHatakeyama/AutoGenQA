{
 "cells": [
  {
   "cell_type": "code",
   "execution_count": 9,
   "metadata": {},
   "outputs": [],
   "source": [
    "#マルチターンデータセットを統合する"
   ]
  },
  {
   "cell_type": "code",
   "execution_count": 10,
   "metadata": {},
   "outputs": [],
   "source": [
    "import glob\n",
    "import json\n",
    "import re\n",
    "jsonl_path_list=glob.glob(\"data_multi_*/*.jsonl\")"
   ]
  },
  {
   "cell_type": "code",
   "execution_count": 11,
   "metadata": {},
   "outputs": [],
   "source": [
    "\n",
    "records=[]\n",
    "for jsonl_path in jsonl_path_list:\n",
    "    with open(jsonl_path,\"r\") as f:\n",
    "        for line in f:\n",
    "            records.append(json.loads(line))"
   ]
  },
  {
   "cell_type": "code",
   "execution_count": 12,
   "metadata": {},
   "outputs": [],
   "source": [
    "\n",
    "#きれいにする\n",
    "remove_words=[\n",
    "\"User:\",\n",
    "\"Assistant:\",\n",
    "\"ユーザー：\",\n",
    "\"アシスタント：\",\n",
    "\"ユーザー:\",\n",
    "\"アシスタント:\",\n",
    "]\n",
    "def clean_chat(txt):\n",
    "    for word in remove_words:\n",
    "        if txt.startswith(word):\n",
    "            txt=txt[len(word):]\n",
    "    txt=txt.strip()\n",
    "    if txt[0]==\"「\" and txt[-1]==\"」\":\n",
    "        txt=txt[1:-1]\n",
    "\n",
    "\n",
    "    return txt"
   ]
  },
  {
   "cell_type": "code",
   "execution_count": 13,
   "metadata": {},
   "outputs": [
    {
     "data": {
      "text/plain": [
       "'アートの世界において、巨匠と呼ばれる人物は誰がありますか？'"
      ]
     },
     "execution_count": 13,
     "metadata": {},
     "output_type": "execute_result"
    }
   ],
   "source": [
    "txt=\"「アートの世界において、巨匠と呼ばれる人物は誰がありますか？」\"\n",
    "clean_chat(txt)"
   ]
  },
  {
   "cell_type": "code",
   "execution_count": 14,
   "metadata": {},
   "outputs": [],
   "source": [
    "def parse_full_auto_dialogue(txt):\n",
    "    if \"### 指示1:\" in txt and \"### 応答1:\" and \"### 指示2:\" in txt and \"### 応答2:\":\n",
    "        # 正規表現で「指示」と「応答」を抽出\n",
    "        pattern = r\"### 指示(\\d+):(.*?)\\n### 応答\\1:(.*?)(?=\\n### 指示|$)\"\n",
    "        matches = re.findall(pattern, txt, re.DOTALL)\n",
    "\n",
    "        # 辞書に変換\n",
    "        dialogue_dict = {}\n",
    "        add_flag=True\n",
    "        for match in matches:\n",
    "            idx = int(match[0])\n",
    "            if idx>=3:\n",
    "                continue\n",
    "            user_text = match[1].strip()\n",
    "            assistant_text = match[2].strip()\n",
    "            if len(user_text)<3:\n",
    "                add_flag=False\n",
    "                break\n",
    "            if assistant_text==\"\":\n",
    "                add_flag=False\n",
    "                break\n",
    "\n",
    "            if user_text.find(\"以下の情報を元に、UserとAssistantのやりとりを\")>=0:\n",
    "                add_flag=False\n",
    "                break\n",
    "\n",
    "            dialogue_dict[f\"q{idx}\"] = clean_chat(user_text)\n",
    "            dialogue_dict[f\"a{idx}\"] = clean_chat(assistant_text)\n",
    "\n",
    "        #最後にチェック\n",
    "        if \"q1\" in dialogue_dict and \"q2\" in dialogue_dict and \"a1\" in dialogue_dict and \"a2\" in dialogue_dict:\n",
    "            return dialogue_dict,add_flag\n",
    "    \n",
    "    return {},False"
   ]
  },
  {
   "cell_type": "code",
   "execution_count": 15,
   "metadata": {},
   "outputs": [],
   "source": [
    "record=records[1]\n",
    "dialogues=[]\n",
    "\n",
    "\n",
    "for record in records:\n",
    "\n",
    "    #自動生成のdialogue\n",
    "    if \"autogen_text\" in record:\n",
    "        txt=record[\"autogen_text\"].strip()\n",
    "\n",
    "    #質問を与える場合\n",
    "    elif \"question\" in record:\n",
    "        txt=record[\"response\"].strip()\n",
    "    else:\n",
    "        raise ValueError(record)\n",
    "\n",
    "    dialogue_dict,add_flag=parse_full_auto_dialogue(txt)\n",
    "    dialogue_dict[\"database\"]=record[\"database\"]\n",
    "    if add_flag:\n",
    "        dialogues.append(dialogue_dict)"
   ]
  },
  {
   "cell_type": "code",
   "execution_count": 16,
   "metadata": {},
   "outputs": [
    {
     "data": {
      "text/plain": [
       "{'question': '最近の忙しさの中で、自分が好きなフィットネスクラスに参加することが出来なくなってきました。仕事や家事、子育てのために毎日の時間はいっぱいで、スポーツを続けることが難しくなりました。しかし、健康は大切です。私たちはどのようにしてフィットネスクラスの習慣を取り組むべきでしょうか？',\n",
       " 'database': 'minnnade',\n",
       " 'response': ' ### 指示1:最近の忙しさの中で、自分が好きなフィットネスクラスに参加することが出来なくなってきました。仕事や家事、子育てのために毎日の時間はいっぱいで、スポーツを続けることが難しくなりました。しかし、健康は大切です。私たちはどのようにしてフィットネスクラスの習慣を取り組むべきでしょうか？\\n### 応答1:わかりました。時間が限られている状態でフィットネスクラスに参加するのは難しいですね。しかし、健康のために継続することは大切です。最初に考えられるのは、自分の時間表を調整してフィットネスクラスに参加する時間を確保することです。\\n### 指示2:具体的にどのように時間表を調整すればいいのですか？\\n### 応答2:具体的な方法は、毎日のスケジュールを確認して、フィットネスクラスに参加する時間帯を決定することが重要です。例えば、仕事や家事、子育てのタイミングを調整して、毎週3回はフィットネスクラスに参加する時間帯を確保します。また、スケジュールが変更された場合は、予め代替日を決定しておくのも良い方法です。こうして時間表を調整することで、フィットネスクラスに参加する習慣を取り込むことが出来ます。'}"
      ]
     },
     "execution_count": 16,
     "metadata": {},
     "output_type": "execute_result"
    }
   ],
   "source": [
    "record"
   ]
  },
  {
   "cell_type": "code",
   "execution_count": 17,
   "metadata": {},
   "outputs": [
    {
     "name": "stderr",
     "output_type": "stream",
     "text": [
      "/home/user/miniconda3/envs/llmeval/lib/python3.11/site-packages/tqdm/auto.py:21: TqdmWarning: IProgress not found. Please update jupyter and ipywidgets. See https://ipywidgets.readthedocs.io/en/stable/user_install.html\n",
      "  from .autonotebook import tqdm as notebook_tqdm\n",
      "About to commit to the hub: 1 addition(s), 0 copie(s) and 0 deletion(s).\n",
      "Request 5aeca3db-7f3e-41fd-aa47-6a345f1a0e71: POST https://huggingface.co/api/datasets/kanhatakeyama/AutoMultiTurnByMixtral8x22b/preupload/main (authenticated: True)\n",
      "No LFS files to upload.\n",
      "Request 984b4e8d-202d-4374-800b-10440dfae631: POST https://huggingface.co/api/datasets/kanhatakeyama/AutoMultiTurnByMixtral8x22b/commit/main (authenticated: True)\n"
     ]
    },
    {
     "data": {
      "text/plain": [
       "CommitInfo(commit_url='https://huggingface.co/datasets/kanhatakeyama/AutoMultiTurnByMixtral8x22b/commit/e39bc0fa32d8ab0d71df910e427e28faa6e0369d', commit_message='Upload 1.jsonl with huggingface_hub', commit_description='', oid='e39bc0fa32d8ab0d71df910e427e28faa6e0369d', pr_url=None, pr_revision=None, pr_num=None)"
      ]
     },
     "execution_count": 17,
     "metadata": {},
     "output_type": "execute_result"
    }
   ],
   "source": [
    "import datasets\n",
    "import pandas as pd\n",
    "from huggingface_hub import HfApi, logging\n",
    "df=pd.DataFrame(dialogues)\n",
    "df=df.reindex()\n",
    "parquet_path=\"data_multi_from_tsubame/1.parquet\"\n",
    "df.to_parquet(parquet_path)\n",
    "\n",
    "jsonl_path=\"data/multi.jsonl\"\n",
    "with open(jsonl_path,\"w\") as f:\n",
    "    for dialogue in dialogues:\n",
    "        f.write(json.dumps(dialogue,ensure_ascii=False)+\"\\n\")\n",
    "\n",
    "hf = HfApi()\n",
    "logging.set_verbosity_debug()\n",
    "hf.upload_file(#path_or_fileobj=parquet_path,\n",
    "                path_or_fileobj=jsonl_path,\n",
    "                #path_in_repo=f\"1.parquet\",\n",
    "                path_in_repo=f\"1.jsonl\",\n",
    "                repo_id=\"kanhatakeyama/AutoMultiTurnByMixtral8x22b\", repo_type=\"dataset\")"
   ]
  },
  {
   "cell_type": "code",
   "execution_count": 18,
   "metadata": {},
   "outputs": [
    {
     "data": {
      "text/html": [
       "<div>\n",
       "<style scoped>\n",
       "    .dataframe tbody tr th:only-of-type {\n",
       "        vertical-align: middle;\n",
       "    }\n",
       "\n",
       "    .dataframe tbody tr th {\n",
       "        vertical-align: top;\n",
       "    }\n",
       "\n",
       "    .dataframe thead th {\n",
       "        text-align: right;\n",
       "    }\n",
       "</style>\n",
       "<table border=\"1\" class=\"dataframe\">\n",
       "  <thead>\n",
       "    <tr style=\"text-align: right;\">\n",
       "      <th></th>\n",
       "      <th>q1</th>\n",
       "      <th>a1</th>\n",
       "      <th>q2</th>\n",
       "      <th>a2</th>\n",
       "      <th>database</th>\n",
       "    </tr>\n",
       "  </thead>\n",
       "  <tbody>\n",
       "    <tr>\n",
       "      <th>0</th>\n",
       "      <td>アートの世界において、巨匠と呼ばれる人物は誰がありますか？</td>\n",
       "      <td>アートの世界では、レオナルド・ダ·ヴィンチやミケランジェロ、ピカソなどが巨匠として知られてい...</td>\n",
       "      <td>ピカソについて詳しく教えてください。</td>\n",
       "      <td>ピカソ（Pablo Picasso）は、スペインの画家であり、現代美術の創始者の一人として知...</td>\n",
       "      <td>random</td>\n",
       "    </tr>\n",
       "    <tr>\n",
       "      <th>1</th>\n",
       "      <td>今日の天気はどうですか？</td>\n",
       "      <td>今日は晴れです。最高気温は25度、最低気温は18度になりそうです。お出かけの時は盛大な太陽光...</td>\n",
       "      <td>明日も同じ天気ですか？</td>\n",
       "      <td>残念ながら明日は雨が降るようです。最高気温は20度、最低気温は15度になりそうです。屋内での...</td>\n",
       "      <td>random</td>\n",
       "    </tr>\n",
       "    <tr>\n",
       "      <th>2</th>\n",
       "      <td>ユーザーはジェーンというフランス人の友人について話します。ジェーンは現在サイエンス分野でディ...</td>\n",
       "      <td>それは面白そうな話ですね！ジェーンがカナダに移住したいと考えているのは素晴らしいことだと思い...</td>\n",
       "      <td>ユーザーはジェーンがカナダ移住の計画を進めるために、彼女の友人や知人と連絡して情報を集めるこ...</td>\n",
       "      <td>それは素晴らしい提案ですね！友人や知人を活用することは、移住計画の進め方に関する情報やアドバ...</td>\n",
       "      <td>random</td>\n",
       "    </tr>\n",
       "    <tr>\n",
       "      <th>3</th>\n",
       "      <td>「人」としては、「アルバート・アインシュタイン」を選びます。「分野」は、物理学で知られていま...</td>\n",
       "      <td>アルバート・アインシュタインは、20世紀初頭に生きた有名な物理学者であり、相対性理論と光量子...</td>\n",
       "      <td>「アルバート・アインシュタイン」と、彼が生きていた同時代の別の人物とを対比してください。</td>\n",
       "      <td>アルバート・アインシュタインと、同時代に活躍した「ニコラテス・テスラ」を比較しましょう。両者...</td>\n",
       "      <td>random</td>\n",
       "    </tr>\n",
       "    <tr>\n",
       "      <th>4</th>\n",
       "      <td>州とは何ですか？</td>\n",
       "      <td>「州」は日本語に訳すと「都道府県」の意味があります。主にアメリカ合衆国やオーストラリアなどの...</td>\n",
       "      <td>アメリカ合衆国にはいくつの州がありますか？</td>\n",
       "      <td>アメリカ合衆国には50個の州があり、さらにワシントン特別都市地区（District of C...</td>\n",
       "      <td>random</td>\n",
       "    </tr>\n",
       "    <tr>\n",
       "      <th>...</th>\n",
       "      <td>...</td>\n",
       "      <td>...</td>\n",
       "      <td>...</td>\n",
       "      <td>...</td>\n",
       "      <td>...</td>\n",
       "    </tr>\n",
       "    <tr>\n",
       "      <th>7181</th>\n",
       "      <td>韓国語の発音が難しく感じられて、どう学ばなければいいか気になります。\\n\\n類似主題：\\n日...</td>\n",
       "      <td>韓国語の発音を学ぶには、まずは簡単な言葉や文章を耳に入れることが大切です。音声materia...</td>\n",
       "      <td>日本語の読み方が難しく感じられます。どうしたらよいでしょうか？\\n\\n类似主题：\\n韓国語の...</td>\n",
       "      <td>日本語の読み方を学ぶ際は、まずはひらがなやカタカナの基礎をマスターすることが大切です。その後...</td>\n",
       "      <td>minnnade</td>\n",
       "    </tr>\n",
       "    <tr>\n",
       "      <th>7182</th>\n",
       "      <td>以下の手順に従って計算を行なってください。\\n1. 数値16を3で掛けた結果から50を引き、...</td>\n",
       "      <td>1. 16 × 3 = 48, 48 - 50 = -2, -2 + 20 = 18\\n2....</td>\n",
       "      <td>以下の手順に従って計算を行なってください。\\n1. 数値20を7で掛けた結果から60を引き、...</td>\n",
       "      <td>1. 20 × 7 = 140, 140 - 60 = 80, 80 + 30 = 110\\...</td>\n",
       "      <td>minnnade</td>\n",
       "    </tr>\n",
       "    <tr>\n",
       "      <th>7183</th>\n",
       "      <td>同じ父母の両方の子どもがいる場合の顔認証システムの課題と解決策について</td>\n",
       "      <td>同じ父母の両方の子どもは、顔の特徴が似通っていることが多いため、顔認証システムで誤認識する可...</td>\n",
       "      <td>顔認証システムにおけるセキュリティ脅威とその対策について</td>\n",
       "      <td>顔認証システムは、不正アクセスを受けた場合に脆弱性を示す可能性があります。これを防ぐためには...</td>\n",
       "      <td>minnnade</td>\n",
       "    </tr>\n",
       "    <tr>\n",
       "      <th>7184</th>\n",
       "      <td>プログラミングにおいてネットワーク通信用ライブラリを利用した開発を行っているのですが、時折障...</td>\n",
       "      <td>ありがとうございます。障害の原因は多岐に渡りますが、考えられる可能性としては、ネットワーク接...</td>\n",
       "      <td>その中でも、ネットワーク接続の不安定が原因だと考えられる場合はどのように対処すべきでしょうか。</td>\n",
       "      <td>ネットワーク接続の問題が原因である場合、まずはインターネット接続やファイアウォール設定を確認...</td>\n",
       "      <td>minnnade</td>\n",
       "    </tr>\n",
       "    <tr>\n",
       "      <th>7185</th>\n",
       "      <td>最近の忙しさの中で、自分が好きなフィットネスクラスに参加することが出来なくなってきました。仕...</td>\n",
       "      <td>わかりました。時間が限られている状態でフィットネスクラスに参加するのは難しいですね。しかし、...</td>\n",
       "      <td>具体的にどのように時間表を調整すればいいのですか？</td>\n",
       "      <td>具体的な方法は、毎日のスケジュールを確認して、フィットネスクラスに参加する時間帯を決定するこ...</td>\n",
       "      <td>minnnade</td>\n",
       "    </tr>\n",
       "  </tbody>\n",
       "</table>\n",
       "<p>7186 rows × 5 columns</p>\n",
       "</div>"
      ],
      "text/plain": [
       "                                                     q1  \\\n",
       "0                         アートの世界において、巨匠と呼ばれる人物は誰がありますか？   \n",
       "1                                          今日の天気はどうですか？   \n",
       "2     ユーザーはジェーンというフランス人の友人について話します。ジェーンは現在サイエンス分野でディ...   \n",
       "3     「人」としては、「アルバート・アインシュタイン」を選びます。「分野」は、物理学で知られていま...   \n",
       "4                                              州とは何ですか？   \n",
       "...                                                 ...   \n",
       "7181  韓国語の発音が難しく感じられて、どう学ばなければいいか気になります。\\n\\n類似主題：\\n日...   \n",
       "7182  以下の手順に従って計算を行なってください。\\n1. 数値16を3で掛けた結果から50を引き、...   \n",
       "7183                同じ父母の両方の子どもがいる場合の顔認証システムの課題と解決策について   \n",
       "7184  プログラミングにおいてネットワーク通信用ライブラリを利用した開発を行っているのですが、時折障...   \n",
       "7185  最近の忙しさの中で、自分が好きなフィットネスクラスに参加することが出来なくなってきました。仕...   \n",
       "\n",
       "                                                     a1  \\\n",
       "0     アートの世界では、レオナルド・ダ·ヴィンチやミケランジェロ、ピカソなどが巨匠として知られてい...   \n",
       "1     今日は晴れです。最高気温は25度、最低気温は18度になりそうです。お出かけの時は盛大な太陽光...   \n",
       "2     それは面白そうな話ですね！ジェーンがカナダに移住したいと考えているのは素晴らしいことだと思い...   \n",
       "3     アルバート・アインシュタインは、20世紀初頭に生きた有名な物理学者であり、相対性理論と光量子...   \n",
       "4     「州」は日本語に訳すと「都道府県」の意味があります。主にアメリカ合衆国やオーストラリアなどの...   \n",
       "...                                                 ...   \n",
       "7181  韓国語の発音を学ぶには、まずは簡単な言葉や文章を耳に入れることが大切です。音声materia...   \n",
       "7182  1. 16 × 3 = 48, 48 - 50 = -2, -2 + 20 = 18\\n2....   \n",
       "7183  同じ父母の両方の子どもは、顔の特徴が似通っていることが多いため、顔認証システムで誤認識する可...   \n",
       "7184  ありがとうございます。障害の原因は多岐に渡りますが、考えられる可能性としては、ネットワーク接...   \n",
       "7185  わかりました。時間が限られている状態でフィットネスクラスに参加するのは難しいですね。しかし、...   \n",
       "\n",
       "                                                     q2  \\\n",
       "0                                    ピカソについて詳しく教えてください。   \n",
       "1                                           明日も同じ天気ですか？   \n",
       "2     ユーザーはジェーンがカナダ移住の計画を進めるために、彼女の友人や知人と連絡して情報を集めるこ...   \n",
       "3          「アルバート・アインシュタイン」と、彼が生きていた同時代の別の人物とを対比してください。   \n",
       "4                                 アメリカ合衆国にはいくつの州がありますか？   \n",
       "...                                                 ...   \n",
       "7181  日本語の読み方が難しく感じられます。どうしたらよいでしょうか？\\n\\n类似主题：\\n韓国語の...   \n",
       "7182  以下の手順に従って計算を行なってください。\\n1. 数値20を7で掛けた結果から60を引き、...   \n",
       "7183                       顔認証システムにおけるセキュリティ脅威とその対策について   \n",
       "7184    その中でも、ネットワーク接続の不安定が原因だと考えられる場合はどのように対処すべきでしょうか。   \n",
       "7185                          具体的にどのように時間表を調整すればいいのですか？   \n",
       "\n",
       "                                                     a2  database  \n",
       "0     ピカソ（Pablo Picasso）は、スペインの画家であり、現代美術の創始者の一人として知...    random  \n",
       "1     残念ながら明日は雨が降るようです。最高気温は20度、最低気温は15度になりそうです。屋内での...    random  \n",
       "2     それは素晴らしい提案ですね！友人や知人を活用することは、移住計画の進め方に関する情報やアドバ...    random  \n",
       "3     アルバート・アインシュタインと、同時代に活躍した「ニコラテス・テスラ」を比較しましょう。両者...    random  \n",
       "4     アメリカ合衆国には50個の州があり、さらにワシントン特別都市地区（District of C...    random  \n",
       "...                                                 ...       ...  \n",
       "7181  日本語の読み方を学ぶ際は、まずはひらがなやカタカナの基礎をマスターすることが大切です。その後...  minnnade  \n",
       "7182  1. 20 × 7 = 140, 140 - 60 = 80, 80 + 30 = 110\\...  minnnade  \n",
       "7183  顔認証システムは、不正アクセスを受けた場合に脆弱性を示す可能性があります。これを防ぐためには...  minnnade  \n",
       "7184  ネットワーク接続の問題が原因である場合、まずはインターネット接続やファイアウォール設定を確認...  minnnade  \n",
       "7185  具体的な方法は、毎日のスケジュールを確認して、フィットネスクラスに参加する時間帯を決定するこ...  minnnade  \n",
       "\n",
       "[7186 rows x 5 columns]"
      ]
     },
     "execution_count": 18,
     "metadata": {},
     "output_type": "execute_result"
    }
   ],
   "source": [
    "\n",
    "df.reindex()"
   ]
  },
  {
   "cell_type": "code",
   "execution_count": null,
   "metadata": {},
   "outputs": [],
   "source": []
  }
 ],
 "metadata": {
  "kernelspec": {
   "display_name": "llmeval",
   "language": "python",
   "name": "python3"
  },
  "language_info": {
   "codemirror_mode": {
    "name": "ipython",
    "version": 3
   },
   "file_extension": ".py",
   "mimetype": "text/x-python",
   "name": "python",
   "nbconvert_exporter": "python",
   "pygments_lexer": "ipython3",
   "version": "3.11.8"
  }
 },
 "nbformat": 4,
 "nbformat_minor": 2
}
