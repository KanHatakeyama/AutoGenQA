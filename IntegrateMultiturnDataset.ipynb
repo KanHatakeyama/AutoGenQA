{
 "cells": [
  {
   "cell_type": "code",
   "execution_count": 1,
   "metadata": {},
   "outputs": [],
   "source": [
    "#マルチターンデータセットを統合する"
   ]
  },
  {
   "cell_type": "code",
   "execution_count": 2,
   "metadata": {},
   "outputs": [],
   "source": [
    "import glob\n",
    "import json\n",
    "import re\n",
    "jsonl_path_list=glob.glob(\"data_multi_*/*.jsonl\")"
   ]
  },
  {
   "cell_type": "code",
   "execution_count": 3,
   "metadata": {},
   "outputs": [],
   "source": [
    "\n",
    "records=[]\n",
    "for jsonl_path in jsonl_path_list:\n",
    "    with open(jsonl_path,\"r\") as f:\n",
    "        for line in f:\n",
    "            records.append(json.loads(line))"
   ]
  },
  {
   "cell_type": "code",
   "execution_count": 4,
   "metadata": {},
   "outputs": [],
   "source": [
    "\n",
    "#きれいにする\n",
    "remove_words=[\n",
    "\"User:\",\n",
    "\"Assistant:\",\n",
    "\"ユーザー：\",\n",
    "\"アシスタント：\",\n",
    "\"ユーザー:\",\n",
    "\"アシスタント:\",\n",
    "]\n",
    "def clean_chat(txt):\n",
    "    for word in remove_words:\n",
    "        if txt.startswith(word):\n",
    "            txt=txt[len(word):]\n",
    "    txt=txt.strip()\n",
    "    if txt[0]==\"「\" and txt[-1]==\"」\":\n",
    "        txt=txt[1:-1]\n",
    "\n",
    "\n",
    "    return txt"
   ]
  },
  {
   "cell_type": "code",
   "execution_count": 5,
   "metadata": {},
   "outputs": [
    {
     "data": {
      "text/plain": [
       "'アートの世界において、巨匠と呼ばれる人物は誰がありますか？'"
      ]
     },
     "execution_count": 5,
     "metadata": {},
     "output_type": "execute_result"
    }
   ],
   "source": [
    "txt=\"「アートの世界において、巨匠と呼ばれる人物は誰がありますか？」\"\n",
    "clean_chat(txt)"
   ]
  },
  {
   "cell_type": "code",
   "execution_count": 6,
   "metadata": {},
   "outputs": [],
   "source": [
    "def parse_full_auto_dialogue(txt):\n",
    "    if \"### 指示1:\" in txt and \"### 応答1:\" and \"### 指示2:\" in txt and \"### 応答2:\":\n",
    "        # 正規表現で「指示」と「応答」を抽出\n",
    "        pattern = r\"### 指示(\\d+):(.*?)\\n### 応答\\1:(.*?)(?=\\n### 指示|$)\"\n",
    "        matches = re.findall(pattern, txt, re.DOTALL)\n",
    "\n",
    "        # 辞書に変換\n",
    "        dialogue_dict = {}\n",
    "        add_flag=True\n",
    "        for match in matches:\n",
    "            idx = int(match[0])\n",
    "            if idx>=3:\n",
    "                continue\n",
    "            user_text = match[1].strip()\n",
    "            assistant_text = match[2].strip()\n",
    "            if len(user_text)<3:\n",
    "                add_flag=False\n",
    "                break\n",
    "            if assistant_text==\"\":\n",
    "                add_flag=False\n",
    "                break\n",
    "\n",
    "            if user_text.find(\"以下の情報を元に、UserとAssistantのやりとりを\")>=0:\n",
    "                add_flag=False\n",
    "                break\n",
    "\n",
    "            dialogue_dict[f\"q{idx}\"] = clean_chat(user_text)\n",
    "            dialogue_dict[f\"a{idx}\"] = clean_chat(assistant_text)\n",
    "\n",
    "        #最後にチェック\n",
    "        if \"q1\" in dialogue_dict and \"q2\" in dialogue_dict and \"a1\" in dialogue_dict and \"a2\" in dialogue_dict:\n",
    "            return dialogue_dict,add_flag\n",
    "    \n",
    "    return {},False"
   ]
  },
  {
   "cell_type": "code",
   "execution_count": 7,
   "metadata": {},
   "outputs": [],
   "source": [
    "record=records[1]\n",
    "dialogues=[]\n",
    "\n",
    "\n",
    "for record in records:\n",
    "\n",
    "    #自動生成のdialogue\n",
    "    if \"autogen_text\" in record:\n",
    "        txt=record[\"autogen_text\"].strip()\n",
    "\n",
    "    #質問を与える場合\n",
    "    elif \"question\" in record:\n",
    "        txt=record[\"response\"].strip()\n",
    "    else:\n",
    "        raise ValueError(record)\n",
    "\n",
    "    dialogue_dict,add_flag=parse_full_auto_dialogue(txt)\n",
    "    dialogue_dict[\"database\"]=record[\"database\"]\n",
    "    if add_flag:\n",
    "        dialogues.append(dialogue_dict)"
   ]
  },
  {
   "cell_type": "code",
   "execution_count": 8,
   "metadata": {},
   "outputs": [
    {
     "data": {
      "text/plain": [
       "{'question': '最近の忙しさの中で、自分が好きなフィットネスクラスに参加することが出来なくなってきました。仕事や家事、子育てのために毎日の時間はいっぱいで、スポーツを続けることが難しくなりました。しかし、健康は大切です。私たちはどのようにしてフィットネスクラスの習慣を取り組むべきでしょうか？',\n",
       " 'database': 'minnnade',\n",
       " 'response': ' ### 指示1:最近の忙しさの中で、自分が好きなフィットネスクラスに参加することが出来なくなってきました。仕事や家事、子育てのために毎日の時間はいっぱいで、スポーツを続けることが難しくなりました。しかし、健康は大切です。私たちはどのようにしてフィットネスクラスの習慣を取り組むべきでしょうか？\\n### 応答1:わかりました。時間が限られている状態でフィットネスクラスに参加するのは難しいですね。しかし、健康のために継続することは大切です。最初に考えられるのは、自分の時間表を調整してフィットネスクラスに参加する時間を確保することです。\\n### 指示2:具体的にどのように時間表を調整すればいいのですか？\\n### 応答2:具体的な方法は、毎日のスケジュールを確認して、フィットネスクラスに参加する時間帯を決定することが重要です。例えば、仕事や家事、子育てのタイミングを調整して、毎週3回はフィットネスクラスに参加する時間帯を確保します。また、スケジュールが変更された場合は、予め代替日を決定しておくのも良い方法です。こうして時間表を調整することで、フィットネスクラスに参加する習慣を取り込むことが出来ます。'}"
      ]
     },
     "execution_count": 8,
     "metadata": {},
     "output_type": "execute_result"
    }
   ],
   "source": [
    "record"
   ]
  },
  {
   "cell_type": "code",
   "execution_count": 9,
   "metadata": {},
   "outputs": [
    {
     "name": "stderr",
     "output_type": "stream",
     "text": [
      "/home/user/miniconda3/envs/llmeval/lib/python3.11/site-packages/tqdm/auto.py:21: TqdmWarning: IProgress not found. Please update jupyter and ipywidgets. See https://ipywidgets.readthedocs.io/en/stable/user_install.html\n",
      "  from .autonotebook import tqdm as notebook_tqdm\n",
      "About to commit to the hub: 1 addition(s), 0 copie(s) and 0 deletion(s).\n",
      "Request b903f204-d92f-41df-8b4e-eca184ad1083: POST https://huggingface.co/api/datasets/kanhatakeyama/AutoMultiTurnByMixtral8x22b/preupload/main (authenticated: True)\n",
      "No LFS files to upload.\n",
      "Request 4d2a3898-8ad0-4999-8811-5ff1de4bf515: POST https://huggingface.co/api/datasets/kanhatakeyama/AutoMultiTurnByMixtral8x22b/commit/main (authenticated: True)\n"
     ]
    },
    {
     "data": {
      "text/plain": [
       "CommitInfo(commit_url='https://huggingface.co/datasets/kanhatakeyama/AutoMultiTurnByMixtral8x22b/commit/583599d7deac57577b80125c3f686ad9b633fb6e', commit_message='Upload 1.jsonl with huggingface_hub', commit_description='', oid='583599d7deac57577b80125c3f686ad9b633fb6e', pr_url=None, pr_revision=None, pr_num=None)"
      ]
     },
     "execution_count": 9,
     "metadata": {},
     "output_type": "execute_result"
    }
   ],
   "source": [
    "import datasets\n",
    "import pandas as pd\n",
    "from huggingface_hub import HfApi, logging\n",
    "df=pd.DataFrame(dialogues)\n",
    "df=df.reindex()\n",
    "parquet_path=\"data_multi_from_tsubame/1.parquet\"\n",
    "df.to_parquet(parquet_path)\n",
    "\n",
    "jsonl_path=\"data/multi.jsonl\"\n",
    "with open(jsonl_path,\"w\") as f:\n",
    "    for dialogue in dialogues:\n",
    "        f.write(json.dumps(dialogue,ensure_ascii=False)+\"\\n\")\n",
    "\n",
    "hf = HfApi()\n",
    "logging.set_verbosity_debug()\n",
    "hf.upload_file(#path_or_fileobj=parquet_path,\n",
    "                path_or_fileobj=jsonl_path,\n",
    "                #path_in_repo=f\"1.parquet\",\n",
    "                path_in_repo=f\"1.jsonl\",\n",
    "                repo_id=\"kanhatakeyama/AutoMultiTurnByMixtral8x22b\", repo_type=\"dataset\")"
   ]
  },
  {
   "cell_type": "code",
   "execution_count": 11,
   "metadata": {},
   "outputs": [
    {
     "data": {
      "text/html": [
       "<div>\n",
       "<style scoped>\n",
       "    .dataframe tbody tr th:only-of-type {\n",
       "        vertical-align: middle;\n",
       "    }\n",
       "\n",
       "    .dataframe tbody tr th {\n",
       "        vertical-align: top;\n",
       "    }\n",
       "\n",
       "    .dataframe thead th {\n",
       "        text-align: right;\n",
       "    }\n",
       "</style>\n",
       "<table border=\"1\" class=\"dataframe\">\n",
       "  <thead>\n",
       "    <tr style=\"text-align: right;\">\n",
       "      <th></th>\n",
       "      <th>q1</th>\n",
       "      <th>a1</th>\n",
       "      <th>q2</th>\n",
       "      <th>a2</th>\n",
       "      <th>database</th>\n",
       "    </tr>\n",
       "  </thead>\n",
       "  <tbody>\n",
       "    <tr>\n",
       "      <th>0</th>\n",
       "      <td>ある大災害に直面して、人類が存亡の危機に瀕しているゲームを想像してほしい。それを防ぐために、...</td>\n",
       "      <td>主婦は家庭を維持しながら、多くの人たちを支えてきました。彼女たちは食料の確保から、医療に至る...</td>\n",
       "      <td>バンカーでの生活は非常に厳しいと想像されます。主婦は、そんな生活を支えるために何を持って行く...</td>\n",
       "      <td>バンカーでの生活を支えるために、主婦は必要十分な食料や水を確保することが重要です。また、医療...</td>\n",
       "      <td>llm-jp/oasst2-33k-ja</td>\n",
       "    </tr>\n",
       "    <tr>\n",
       "      <th>1</th>\n",
       "      <td>なぜニューイングランド・ペイトリオッツはNFL史上最も偉大なチームなのか？</td>\n",
       "      <td>ニューイングランド・ペイトリオッツは、アメリカンフットボールリーグであるNFLの史上、最多の...</td>\n",
       "      <td>その他にもニューイングランド・ペイトリオッツが偉大なチームである理由は何か？</td>\n",
       "      <td>ニューイングランド・ペイトリオッツのコーチとして有名なビル・ベリッチェは、NFL史上最多のス...</td>\n",
       "      <td>kunishou/databricks-dolly-15k-ja</td>\n",
       "    </tr>\n",
       "    <tr>\n",
       "      <th>2</th>\n",
       "      <td>フライドポテト、KFC、リンゴ、フルーツサラダ、ステーキ、ビール、ワイン、ウィスキー、ポテト...</td>\n",
       "      <td>リンゴ、フルーツサラダ、ステーキ、レンガ、アロエベラは健康に良い食品です。一方、フライドポテ...</td>\n",
       "      <td>食品以外のものは何でしょうか？</td>\n",
       "      <td>レンチ、砂利、砂は食品ではありません。</td>\n",
       "      <td>kunishou/databricks-dolly-15k-ja</td>\n",
       "    </tr>\n",
       "    <tr>\n",
       "      <th>3</th>\n",
       "      <td>BMWとメルセデスの違いは何ですか？</td>\n",
       "      <td>BMWとメルセデスは、両社が独特の特徴を持った高級車の製造に関わる2つの主要企業です。BMW...</td>\n",
       "      <td>それではBMWの代表的なモデルは何ですか？</td>\n",
       "      <td>BMWの代表的なモデルとしては、5系やX5などが挙げられます。これらの車種は、高いパフォーマ...</td>\n",
       "      <td>llm-jp/oasst2-33k-ja</td>\n",
       "    </tr>\n",
       "    <tr>\n",
       "      <th>4</th>\n",
       "      <td>インドのハイデラバードについて教えてください。\\n\\nハイデラバード（/ˈhaɪ dər-ə...</td>\n",
       "      <td>ご説明ありがとうございます。ハイデラバードは面積も生産高も大きく、歴史も長い都市ですね。</td>\n",
       "      <td>それにしても、どのような風景が見られるのでしょうか？</td>\n",
       "      <td>ハイデラバードは丘陵地帯にあり、人工湖もあります。歴史的建造物も多く、一般的な都市とは違った...</td>\n",
       "      <td>kunishou/databricks-dolly-15k-ja</td>\n",
       "    </tr>\n",
       "    <tr>\n",
       "      <th>...</th>\n",
       "      <td>...</td>\n",
       "      <td>...</td>\n",
       "      <td>...</td>\n",
       "      <td>...</td>\n",
       "      <td>...</td>\n",
       "    </tr>\n",
       "    <tr>\n",
       "      <th>7470</th>\n",
       "      <td>韓国語の発音が難しく感じられて、どう学ばなければいいか気になります。\\n\\n類似主題：\\n日...</td>\n",
       "      <td>韓国語の発音を学ぶには、まずは簡単な言葉や文章を耳に入れることが大切です。音声materia...</td>\n",
       "      <td>日本語の読み方が難しく感じられます。どうしたらよいでしょうか？\\n\\n类似主题：\\n韓国語の...</td>\n",
       "      <td>日本語の読み方を学ぶ際は、まずはひらがなやカタカナの基礎をマスターすることが大切です。その後...</td>\n",
       "      <td>minnnade</td>\n",
       "    </tr>\n",
       "    <tr>\n",
       "      <th>7471</th>\n",
       "      <td>以下の手順に従って計算を行なってください。\\n1. 数値16を3で掛けた結果から50を引き、...</td>\n",
       "      <td>1. 16 × 3 = 48, 48 - 50 = -2, -2 + 20 = 18\\n2....</td>\n",
       "      <td>以下の手順に従って計算を行なってください。\\n1. 数値20を7で掛けた結果から60を引き、...</td>\n",
       "      <td>1. 20 × 7 = 140, 140 - 60 = 80, 80 + 30 = 110\\...</td>\n",
       "      <td>minnnade</td>\n",
       "    </tr>\n",
       "    <tr>\n",
       "      <th>7472</th>\n",
       "      <td>同じ父母の両方の子どもがいる場合の顔認証システムの課題と解決策について</td>\n",
       "      <td>同じ父母の両方の子どもは、顔の特徴が似通っていることが多いため、顔認証システムで誤認識する可...</td>\n",
       "      <td>顔認証システムにおけるセキュリティ脅威とその対策について</td>\n",
       "      <td>顔認証システムは、不正アクセスを受けた場合に脆弱性を示す可能性があります。これを防ぐためには...</td>\n",
       "      <td>minnnade</td>\n",
       "    </tr>\n",
       "    <tr>\n",
       "      <th>7473</th>\n",
       "      <td>プログラミングにおいてネットワーク通信用ライブラリを利用した開発を行っているのですが、時折障...</td>\n",
       "      <td>ありがとうございます。障害の原因は多岐に渡りますが、考えられる可能性としては、ネットワーク接...</td>\n",
       "      <td>その中でも、ネットワーク接続の不安定が原因だと考えられる場合はどのように対処すべきでしょうか。</td>\n",
       "      <td>ネットワーク接続の問題が原因である場合、まずはインターネット接続やファイアウォール設定を確認...</td>\n",
       "      <td>minnnade</td>\n",
       "    </tr>\n",
       "    <tr>\n",
       "      <th>7474</th>\n",
       "      <td>最近の忙しさの中で、自分が好きなフィットネスクラスに参加することが出来なくなってきました。仕...</td>\n",
       "      <td>わかりました。時間が限られている状態でフィットネスクラスに参加するのは難しいですね。しかし、...</td>\n",
       "      <td>具体的にどのように時間表を調整すればいいのですか？</td>\n",
       "      <td>具体的な方法は、毎日のスケジュールを確認して、フィットネスクラスに参加する時間帯を決定するこ...</td>\n",
       "      <td>minnnade</td>\n",
       "    </tr>\n",
       "  </tbody>\n",
       "</table>\n",
       "<p>7475 rows × 5 columns</p>\n",
       "</div>"
      ],
      "text/plain": [
       "                                                     q1  \\\n",
       "0     ある大災害に直面して、人類が存亡の危機に瀕しているゲームを想像してほしい。それを防ぐために、...   \n",
       "1                 なぜニューイングランド・ペイトリオッツはNFL史上最も偉大なチームなのか？   \n",
       "2     フライドポテト、KFC、リンゴ、フルーツサラダ、ステーキ、ビール、ワイン、ウィスキー、ポテト...   \n",
       "3                                    BMWとメルセデスの違いは何ですか？   \n",
       "4     インドのハイデラバードについて教えてください。\\n\\nハイデラバード（/ˈhaɪ dər-ə...   \n",
       "...                                                 ...   \n",
       "7470  韓国語の発音が難しく感じられて、どう学ばなければいいか気になります。\\n\\n類似主題：\\n日...   \n",
       "7471  以下の手順に従って計算を行なってください。\\n1. 数値16を3で掛けた結果から50を引き、...   \n",
       "7472                同じ父母の両方の子どもがいる場合の顔認証システムの課題と解決策について   \n",
       "7473  プログラミングにおいてネットワーク通信用ライブラリを利用した開発を行っているのですが、時折障...   \n",
       "7474  最近の忙しさの中で、自分が好きなフィットネスクラスに参加することが出来なくなってきました。仕...   \n",
       "\n",
       "                                                     a1  \\\n",
       "0     主婦は家庭を維持しながら、多くの人たちを支えてきました。彼女たちは食料の確保から、医療に至る...   \n",
       "1     ニューイングランド・ペイトリオッツは、アメリカンフットボールリーグであるNFLの史上、最多の...   \n",
       "2     リンゴ、フルーツサラダ、ステーキ、レンガ、アロエベラは健康に良い食品です。一方、フライドポテ...   \n",
       "3     BMWとメルセデスは、両社が独特の特徴を持った高級車の製造に関わる2つの主要企業です。BMW...   \n",
       "4          ご説明ありがとうございます。ハイデラバードは面積も生産高も大きく、歴史も長い都市ですね。   \n",
       "...                                                 ...   \n",
       "7470  韓国語の発音を学ぶには、まずは簡単な言葉や文章を耳に入れることが大切です。音声materia...   \n",
       "7471  1. 16 × 3 = 48, 48 - 50 = -2, -2 + 20 = 18\\n2....   \n",
       "7472  同じ父母の両方の子どもは、顔の特徴が似通っていることが多いため、顔認証システムで誤認識する可...   \n",
       "7473  ありがとうございます。障害の原因は多岐に渡りますが、考えられる可能性としては、ネットワーク接...   \n",
       "7474  わかりました。時間が限られている状態でフィットネスクラスに参加するのは難しいですね。しかし、...   \n",
       "\n",
       "                                                     q2  \\\n",
       "0     バンカーでの生活は非常に厳しいと想像されます。主婦は、そんな生活を支えるために何を持って行く...   \n",
       "1                その他にもニューイングランド・ペイトリオッツが偉大なチームである理由は何か？   \n",
       "2                                       食品以外のものは何でしょうか？   \n",
       "3                                 それではBMWの代表的なモデルは何ですか？   \n",
       "4                            それにしても、どのような風景が見られるのでしょうか？   \n",
       "...                                                 ...   \n",
       "7470  日本語の読み方が難しく感じられます。どうしたらよいでしょうか？\\n\\n类似主题：\\n韓国語の...   \n",
       "7471  以下の手順に従って計算を行なってください。\\n1. 数値20を7で掛けた結果から60を引き、...   \n",
       "7472                       顔認証システムにおけるセキュリティ脅威とその対策について   \n",
       "7473    その中でも、ネットワーク接続の不安定が原因だと考えられる場合はどのように対処すべきでしょうか。   \n",
       "7474                          具体的にどのように時間表を調整すればいいのですか？   \n",
       "\n",
       "                                                     a2  \\\n",
       "0     バンカーでの生活を支えるために、主婦は必要十分な食料や水を確保することが重要です。また、医療...   \n",
       "1     ニューイングランド・ペイトリオッツのコーチとして有名なビル・ベリッチェは、NFL史上最多のス...   \n",
       "2                                   レンチ、砂利、砂は食品ではありません。   \n",
       "3     BMWの代表的なモデルとしては、5系やX5などが挙げられます。これらの車種は、高いパフォーマ...   \n",
       "4     ハイデラバードは丘陵地帯にあり、人工湖もあります。歴史的建造物も多く、一般的な都市とは違った...   \n",
       "...                                                 ...   \n",
       "7470  日本語の読み方を学ぶ際は、まずはひらがなやカタカナの基礎をマスターすることが大切です。その後...   \n",
       "7471  1. 20 × 7 = 140, 140 - 60 = 80, 80 + 30 = 110\\...   \n",
       "7472  顔認証システムは、不正アクセスを受けた場合に脆弱性を示す可能性があります。これを防ぐためには...   \n",
       "7473  ネットワーク接続の問題が原因である場合、まずはインターネット接続やファイアウォール設定を確認...   \n",
       "7474  具体的な方法は、毎日のスケジュールを確認して、フィットネスクラスに参加する時間帯を決定するこ...   \n",
       "\n",
       "                              database  \n",
       "0                 llm-jp/oasst2-33k-ja  \n",
       "1     kunishou/databricks-dolly-15k-ja  \n",
       "2     kunishou/databricks-dolly-15k-ja  \n",
       "3                 llm-jp/oasst2-33k-ja  \n",
       "4     kunishou/databricks-dolly-15k-ja  \n",
       "...                                ...  \n",
       "7470                          minnnade  \n",
       "7471                          minnnade  \n",
       "7472                          minnnade  \n",
       "7473                          minnnade  \n",
       "7474                          minnnade  \n",
       "\n",
       "[7475 rows x 5 columns]"
      ]
     },
     "execution_count": 11,
     "metadata": {},
     "output_type": "execute_result"
    }
   ],
   "source": [
    "\n",
    "df.reindex()"
   ]
  },
  {
   "cell_type": "code",
   "execution_count": null,
   "metadata": {},
   "outputs": [],
   "source": []
  }
 ],
 "metadata": {
  "kernelspec": {
   "display_name": "llmeval",
   "language": "python",
   "name": "python3"
  },
  "language_info": {
   "codemirror_mode": {
    "name": "ipython",
    "version": 3
   },
   "file_extension": ".py",
   "mimetype": "text/x-python",
   "name": "python",
   "nbconvert_exporter": "python",
   "pygments_lexer": "ipython3",
   "version": "3.11.8"
  }
 },
 "nbformat": 4,
 "nbformat_minor": 2
}
