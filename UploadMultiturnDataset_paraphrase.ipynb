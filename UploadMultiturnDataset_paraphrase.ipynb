{
 "cells": [
  {
   "cell_type": "code",
   "execution_count": 19,
   "metadata": {},
   "outputs": [],
   "source": [
    "#マルチターンデータセットを統合する"
   ]
  },
  {
   "cell_type": "code",
   "execution_count": 20,
   "metadata": {},
   "outputs": [],
   "source": [
    "import glob\n",
    "import json\n",
    "import re\n",
    "jsonl_path_list=glob.glob(\"data_multi_*/*.jsonl\")"
   ]
  },
  {
   "cell_type": "code",
   "execution_count": 21,
   "metadata": {},
   "outputs": [],
   "source": [
    "\n",
    "records=[]\n",
    "for jsonl_path in jsonl_path_list:\n",
    "    with open(jsonl_path,\"r\") as f:\n",
    "        for line in f:\n",
    "            records.append(json.loads(line))"
   ]
  },
  {
   "cell_type": "code",
   "execution_count": 22,
   "metadata": {},
   "outputs": [
    {
     "data": {
      "text/plain": [
       "'data_multi_paraph/completion_records20240521120046.jsonl'"
      ]
     },
     "execution_count": 22,
     "metadata": {},
     "output_type": "execute_result"
    }
   ],
   "source": [
    "jsonl_path"
   ]
  },
  {
   "cell_type": "code",
   "execution_count": 23,
   "metadata": {},
   "outputs": [],
   "source": [
    "\n",
    "#きれいにする\n",
    "remove_words=[\n",
    "\"User:\",\n",
    "\"Assistant:\",\n",
    "\"ユーザー：\",\n",
    "\"アシスタント：\",\n",
    "\"ユーザー:\",\n",
    "\"アシスタント:\",\n",
    "]\n",
    "def clean_chat(txt):\n",
    "    for word in remove_words:\n",
    "        if txt.startswith(word):\n",
    "            txt=txt[len(word):]\n",
    "    txt=txt.strip()\n",
    "    if txt[0]==\"「\" and txt[-1]==\"」\":\n",
    "        txt=txt[1:-1]\n",
    "\n",
    "\n",
    "    return txt"
   ]
  },
  {
   "cell_type": "code",
   "execution_count": 24,
   "metadata": {},
   "outputs": [
    {
     "data": {
      "text/plain": [
       "'アートの世界において、巨匠と呼ばれる人物は誰がありますか？'"
      ]
     },
     "execution_count": 24,
     "metadata": {},
     "output_type": "execute_result"
    }
   ],
   "source": [
    "txt=\"「アートの世界において、巨匠と呼ばれる人物は誰がありますか？」\"\n",
    "clean_chat(txt)"
   ]
  },
  {
   "cell_type": "code",
   "execution_count": 25,
   "metadata": {},
   "outputs": [],
   "source": [
    "def parse_full_auto_dialogue(txt):\n",
    "    if \"### 指示1:\" in txt and \"### 応答1:\" and \"### 指示2:\" in txt and \"### 応答2:\":\n",
    "        # 正規表現で「指示」と「応答」を抽出\n",
    "        pattern = r\"### 指示(\\d+):(.*?)\\n### 応答\\1:(.*?)(?=\\n### 指示|$)\"\n",
    "        matches = re.findall(pattern, txt, re.DOTALL)\n",
    "\n",
    "        # 辞書に変換\n",
    "        dialogue_dict = {}\n",
    "        add_flag=True\n",
    "        for match in matches:\n",
    "            idx = int(match[0])\n",
    "            if idx>=3:\n",
    "                continue\n",
    "            user_text = match[1].strip()\n",
    "            assistant_text = match[2].strip()\n",
    "            if len(user_text)<3:\n",
    "                add_flag=False\n",
    "                break\n",
    "            if assistant_text==\"\":\n",
    "                add_flag=False\n",
    "                break\n",
    "\n",
    "            if user_text.find(\"以下の情報を元に、UserとAssistantのやりとりを\")>=0:\n",
    "                add_flag=False\n",
    "                break\n",
    "\n",
    "            dialogue_dict[f\"q{idx}\"] = clean_chat(user_text)\n",
    "            dialogue_dict[f\"a{idx}\"] = clean_chat(assistant_text)\n",
    "\n",
    "        #最後にチェック\n",
    "        if \"q1\" in dialogue_dict and \"q2\" in dialogue_dict and \"a1\" in dialogue_dict and \"a2\" in dialogue_dict:\n",
    "            return dialogue_dict,add_flag\n",
    "    \n",
    "    return {},False"
   ]
  },
  {
   "cell_type": "code",
   "execution_count": 26,
   "metadata": {},
   "outputs": [],
   "source": [
    "record=records[1]\n",
    "dialogues=[]\n",
    "\n",
    "invalid_records=[]\n",
    "done_records=[]\n",
    "for record in records:\n",
    "\n",
    "    #自動生成のdialogue\n",
    "    if \"autogen_text\" in record:\n",
    "        txt=record[\"autogen_text\"].strip()\n",
    "\n",
    "\n",
    "    if txt in done_records:\n",
    "        continue\n",
    "\n",
    "    #質問を与える場合\n",
    "    elif \"question\" in record and \"response\" in record:\n",
    "        txt=record[\"response\"].strip()\n",
    "    else:\n",
    "        invalid_records.append(record)\n",
    "        #print(\"invalid record:\",record)\n",
    "        #raise ValueError(record)\n",
    "\n",
    "    dialogue_dict,add_flag=parse_full_auto_dialogue(txt)\n",
    "    dialogue_dict[\"database\"]=record[\"database\"]\n",
    "    if add_flag:\n",
    "        dialogues.append(dialogue_dict)\n",
    "        done_records.append(txt)"
   ]
  },
  {
   "cell_type": "code",
   "execution_count": 27,
   "metadata": {},
   "outputs": [
    {
     "data": {
      "text/plain": [
       "{'q1': '「を無視できない」で終わる文章にしてください\\n原子爆弾開発競争で、アメリカは黒鉛、ドイツは重水を中性子減速剤に選んだと聞きました。黒鉛に含まれるホウ素の不純物問題についてドイツは気づいていなかったからです。これについてもう少し詳しく教えていただけますか?',\n",
       " 'a1': 'ホウ素の不純物問題を無視できないのは、その不純物が中性子減速剤として黒鉛の効果を低下させるためです。この不純物がホウ素から排除されずに残っていると、中性子減速過程が遅くなり、核反応を引き起こすことが困難になります。',\n",
       " 'q2': '簡潔に説明を書いてください（25文字以内）',\n",
       " 'a2': '不純物ホウ素低下反応効果',\n",
       " 'database': 'cyberagent/chatbot-arena-ja-calm2-7b-chat-experimental'}"
      ]
     },
     "execution_count": 27,
     "metadata": {},
     "output_type": "execute_result"
    }
   ],
   "source": [
    "dialogues[0]"
   ]
  },
  {
   "cell_type": "code",
   "execution_count": 28,
   "metadata": {},
   "outputs": [
    {
     "name": "stderr",
     "output_type": "stream",
     "text": [
      "About to commit to the hub: 1 addition(s), 0 copie(s) and 0 deletion(s).\n",
      "Request ef0b0ac9-aa55-4033-a3ba-9cf56dfcf2bc: POST https://huggingface.co/api/datasets/kanhatakeyama/AutoMultiTurnByMixtral8x22b/preupload/main (authenticated: True)\n",
      "No LFS files to upload.\n",
      "Request ea0bee34-be15-463b-a693-ead7d3ec84ff: POST https://huggingface.co/api/datasets/kanhatakeyama/AutoMultiTurnByMixtral8x22b/commit/main (authenticated: True)\n"
     ]
    },
    {
     "data": {
      "text/plain": [
       "CommitInfo(commit_url='https://huggingface.co/datasets/kanhatakeyama/AutoMultiTurnByMixtral8x22b/commit/9ddd490df0a9cfc5a72cae7e17ca679b112e8f21', commit_message='Upload 1_para.jsonl with huggingface_hub', commit_description='', oid='9ddd490df0a9cfc5a72cae7e17ca679b112e8f21', pr_url=None, pr_revision=None, pr_num=None)"
      ]
     },
     "execution_count": 28,
     "metadata": {},
     "output_type": "execute_result"
    }
   ],
   "source": [
    "import datasets\n",
    "import pandas as pd\n",
    "from huggingface_hub import HfApi, logging\n",
    "df=pd.DataFrame(dialogues)\n",
    "df=df.reindex()\n",
    "parquet_path=\"data_multi_paraph/1.parquet\"\n",
    "df.to_parquet(parquet_path)\n",
    "jsonl_path=\"data/multi_paraph.jsonl\"\n",
    "with open(jsonl_path,\"w\") as f:\n",
    "    for dialogue in dialogues:\n",
    "        f.write(json.dumps(dialogue,ensure_ascii=False)+\"\\n\")\n",
    "\n",
    "hf = HfApi()\n",
    "logging.set_verbosity_debug()\n",
    "hf.upload_file(#path_or_fileobj=parquet_path,\n",
    "                path_or_fileobj=jsonl_path,\n",
    "                path_in_repo=f\"1_para.jsonl\",\n",
    "                repo_id=\"kanhatakeyama/AutoMultiTurnByMixtral8x22b\", repo_type=\"dataset\")"
   ]
  },
  {
   "cell_type": "code",
   "execution_count": 29,
   "metadata": {},
   "outputs": [
    {
     "data": {
      "text/html": [
       "<div>\n",
       "<style scoped>\n",
       "    .dataframe tbody tr th:only-of-type {\n",
       "        vertical-align: middle;\n",
       "    }\n",
       "\n",
       "    .dataframe tbody tr th {\n",
       "        vertical-align: top;\n",
       "    }\n",
       "\n",
       "    .dataframe thead th {\n",
       "        text-align: right;\n",
       "    }\n",
       "</style>\n",
       "<table border=\"1\" class=\"dataframe\">\n",
       "  <thead>\n",
       "    <tr style=\"text-align: right;\">\n",
       "      <th></th>\n",
       "      <th>q1</th>\n",
       "      <th>a1</th>\n",
       "      <th>q2</th>\n",
       "      <th>a2</th>\n",
       "      <th>database</th>\n",
       "    </tr>\n",
       "  </thead>\n",
       "  <tbody>\n",
       "    <tr>\n",
       "      <th>0</th>\n",
       "      <td>「を無視できない」で終わる文章にしてください\\n原子爆弾開発競争で、アメリカは黒鉛、ドイツは...</td>\n",
       "      <td>ホウ素の不純物問題を無視できないのは、その不純物が中性子減速剤として黒鉛の効果を低下させるた...</td>\n",
       "      <td>簡潔に説明を書いてください（25文字以内）</td>\n",
       "      <td>不純物ホウ素低下反応効果</td>\n",
       "      <td>cyberagent/chatbot-arena-ja-calm2-7b-chat-expe...</td>\n",
       "    </tr>\n",
       "    <tr>\n",
       "      <th>1</th>\n",
       "      <td>「探検家」になりきって説明してください\\nウェブページで最小限の労力で日付範囲の選択を可能に...</td>\n",
       "      <td>探検家として、私は次のような手法をお勧めします。日付選択を簡略化するために、日付ピッカーを使...</td>\n",
       "      <td>「もしくは」で始まる文章にしてください</td>\n",
       "      <td>もしくは、日付範囲の選択をより簡略化するために、スライダーを使用することができます。ユーザー...</td>\n",
       "      <td>cyberagent/chatbot-arena-ja-calm2-7b-chat-expe...</td>\n",
       "    </tr>\n",
       "    <tr>\n",
       "      <th>2</th>\n",
       "      <td>「石」になりきって説明してください\\n私は石となって話します。石は地球上で最も多く見られる物...</td>\n",
       "      <td>これらを考慮した上で私の意見としては、シドニーやメルボルンがお勧めできそうです。</td>\n",
       "      <td>「要するに」で始まる文章にしてください</td>\n",
       "      <td>要するに、オーストラリアの一番良い都市を選ぶ際は、観光地や学校・大学、生活環境などを考慮する...</td>\n",
       "      <td>kunishou/databricks-dolly-15k-ja</td>\n",
       "    </tr>\n",
       "    <tr>\n",
       "      <th>3</th>\n",
       "      <td>シンプルに表現してみてください（15文字以内）\\nゲームの難易度レベル: レインワールド, ...</td>\n",
       "      <td>- レインワールド: 中級\\n- カップヘッド: 上級\\n- M&amp;M:ダークメサイア: 中級...</td>\n",
       "      <td>「全体的に見て」で始まる文章にしてください</td>\n",
       "      <td>全体的にみて、これらのゲームの難易度は下級から上級まで多岐にわたります。下級のスーパーミート...</td>\n",
       "      <td>cyberagent/chatbot-arena-ja-calm2-7b-chat-expe...</td>\n",
       "    </tr>\n",
       "    <tr>\n",
       "      <th>4</th>\n",
       "      <td>「とは異なり」で始まる文章にしてください\\nピーチとクッパはどちらのゲームのキャラクターですか?</td>\n",
       "      <td>とは異なり、ピーチはマリオシリーズの主要人物であるプリンセスであり、クッパは同じシリーズの最...</td>\n",
       "      <td>重要な点を一文で述べてください</td>\n",
       "      <td>ピーチとクッパは両方ともマリオシリーズに属し、それぞれ主人公と最大の悪役として知られています。</td>\n",
       "      <td>cyberagent/chatbot-arena-ja-calm2-7b-chat-expe...</td>\n",
       "    </tr>\n",
       "    <tr>\n",
       "      <th>...</th>\n",
       "      <td>...</td>\n",
       "      <td>...</td>\n",
       "      <td>...</td>\n",
       "      <td>...</td>\n",
       "      <td>...</td>\n",
       "    </tr>\n",
       "    <tr>\n",
       "      <th>6437</th>\n",
       "      <td>短い説明文を書ってください（45文字以内）\\n怒ったバナナの詩を作って。</td>\n",
       "      <td>了解しました、怒ったバナナについて面白い詩を考えます。</td>\n",
       "      <td>「を考慮する」で終わる文章にしてください</td>\n",
       "      <td>了解しました、怒ったバナナの詩を作成する際、読者の好みと喜びが高まるように心掛けます。</td>\n",
       "      <td>llm-jp/oasst2-33k-ja</td>\n",
       "    </tr>\n",
       "    <tr>\n",
       "      <th>6438</th>\n",
       "      <td>「が考えられる」で終わる文章にしてください\\n史上最高のサッカー選手とは？</td>\n",
       "      <td>多くの人たちによって、プレースティルや成果面から、ポルトガルのサッカー選手であるクリスチャヌ...</td>\n",
       "      <td>「テレビ番組」になりきって説明してください</td>\n",
       "      <td>はじめまして！今回の番組では、毎週お届けする「世界のスター選手を探る」テレビ番組となります。...</td>\n",
       "      <td>llm-jp/oasst2-33k-ja</td>\n",
       "    </tr>\n",
       "    <tr>\n",
       "      <th>6439</th>\n",
       "      <td>簡潔に説明してみてください（30文字以内）\\n中国料理の調味料リストを教える。</td>\n",
       "      <td>中国料理でよく使われる調味料としては、生姜、ニンニク、醤油、砂糖、米酢、麻油、白胡椒粉、青ネ...</td>\n",
       "      <td>一言で要約してみてください</td>\n",
       "      <td>中国料理の調味料リスト。</td>\n",
       "      <td>kunishou/databricks-dolly-15k-ja</td>\n",
       "    </tr>\n",
       "    <tr>\n",
       "      <th>6440</th>\n",
       "      <td>「空」になりきって説明してください\\n2000年代から2010年代前半のポップミュージック制...</td>\n",
       "      <td>2000年代と2010年代前半のポップミュージックは、多くの人が耳にする主流的な音楽でした。...</td>\n",
       "      <td>「常識的に言って」で始まる文章にしてください</td>\n",
       "      <td>常識的に言って、2000年代と2010年代前半のポップミュージックは、音楽的な多様性が減少し...</td>\n",
       "      <td>cyberagent/chatbot-arena-ja-calm2-7b-chat-expe...</td>\n",
       "    </tr>\n",
       "    <tr>\n",
       "      <th>6441</th>\n",
       "      <td>「司会者」になりきって説明してください\\nワクチンの用途は何ですか？\\n\\nワクチンとは、特...</td>\n",
       "      <td>ワクチンは、特定の感染症や悪性疾患に対する能動的な獲得免疫を提供する生物学的製剤です。ワクチ...</td>\n",
       "      <td>「とされるべきである」で終わる文章にしてください</td>\n",
       "      <td>ワクチン接種は、感染症や悪性疾患への防御策として広く使用され、有効であることが示されています...</td>\n",
       "      <td>kunishou/databricks-dolly-15k-ja</td>\n",
       "    </tr>\n",
       "  </tbody>\n",
       "</table>\n",
       "<p>6442 rows × 5 columns</p>\n",
       "</div>"
      ],
      "text/plain": [
       "                                                     q1  \\\n",
       "0     「を無視できない」で終わる文章にしてください\\n原子爆弾開発競争で、アメリカは黒鉛、ドイツは...   \n",
       "1     「探検家」になりきって説明してください\\nウェブページで最小限の労力で日付範囲の選択を可能に...   \n",
       "2     「石」になりきって説明してください\\n私は石となって話します。石は地球上で最も多く見られる物...   \n",
       "3     シンプルに表現してみてください（15文字以内）\\nゲームの難易度レベル: レインワールド, ...   \n",
       "4      「とは異なり」で始まる文章にしてください\\nピーチとクッパはどちらのゲームのキャラクターですか?   \n",
       "...                                                 ...   \n",
       "6437               短い説明文を書ってください（45文字以内）\\n怒ったバナナの詩を作って。   \n",
       "6438              「が考えられる」で終わる文章にしてください\\n史上最高のサッカー選手とは？   \n",
       "6439            簡潔に説明してみてください（30文字以内）\\n中国料理の調味料リストを教える。   \n",
       "6440  「空」になりきって説明してください\\n2000年代から2010年代前半のポップミュージック制...   \n",
       "6441  「司会者」になりきって説明してください\\nワクチンの用途は何ですか？\\n\\nワクチンとは、特...   \n",
       "\n",
       "                                                     a1  \\\n",
       "0     ホウ素の不純物問題を無視できないのは、その不純物が中性子減速剤として黒鉛の効果を低下させるた...   \n",
       "1     探検家として、私は次のような手法をお勧めします。日付選択を簡略化するために、日付ピッカーを使...   \n",
       "2              これらを考慮した上で私の意見としては、シドニーやメルボルンがお勧めできそうです。   \n",
       "3     - レインワールド: 中級\\n- カップヘッド: 上級\\n- M&M:ダークメサイア: 中級...   \n",
       "4     とは異なり、ピーチはマリオシリーズの主要人物であるプリンセスであり、クッパは同じシリーズの最...   \n",
       "...                                                 ...   \n",
       "6437                        了解しました、怒ったバナナについて面白い詩を考えます。   \n",
       "6438  多くの人たちによって、プレースティルや成果面から、ポルトガルのサッカー選手であるクリスチャヌ...   \n",
       "6439  中国料理でよく使われる調味料としては、生姜、ニンニク、醤油、砂糖、米酢、麻油、白胡椒粉、青ネ...   \n",
       "6440  2000年代と2010年代前半のポップミュージックは、多くの人が耳にする主流的な音楽でした。...   \n",
       "6441  ワクチンは、特定の感染症や悪性疾患に対する能動的な獲得免疫を提供する生物学的製剤です。ワクチ...   \n",
       "\n",
       "                            q2  \\\n",
       "0        簡潔に説明を書いてください（25文字以内）   \n",
       "1          「もしくは」で始まる文章にしてください   \n",
       "2          「要するに」で始まる文章にしてください   \n",
       "3        「全体的に見て」で始まる文章にしてください   \n",
       "4              重要な点を一文で述べてください   \n",
       "...                        ...   \n",
       "6437      「を考慮する」で終わる文章にしてください   \n",
       "6438     「テレビ番組」になりきって説明してください   \n",
       "6439             一言で要約してみてください   \n",
       "6440    「常識的に言って」で始まる文章にしてください   \n",
       "6441  「とされるべきである」で終わる文章にしてください   \n",
       "\n",
       "                                                     a2  \\\n",
       "0                                          不純物ホウ素低下反応効果   \n",
       "1     もしくは、日付範囲の選択をより簡略化するために、スライダーを使用することができます。ユーザー...   \n",
       "2     要するに、オーストラリアの一番良い都市を選ぶ際は、観光地や学校・大学、生活環境などを考慮する...   \n",
       "3     全体的にみて、これらのゲームの難易度は下級から上級まで多岐にわたります。下級のスーパーミート...   \n",
       "4       ピーチとクッパは両方ともマリオシリーズに属し、それぞれ主人公と最大の悪役として知られています。   \n",
       "...                                                 ...   \n",
       "6437        了解しました、怒ったバナナの詩を作成する際、読者の好みと喜びが高まるように心掛けます。   \n",
       "6438  はじめまして！今回の番組では、毎週お届けする「世界のスター選手を探る」テレビ番組となります。...   \n",
       "6439                                       中国料理の調味料リスト。   \n",
       "6440  常識的に言って、2000年代と2010年代前半のポップミュージックは、音楽的な多様性が減少し...   \n",
       "6441  ワクチン接種は、感染症や悪性疾患への防御策として広く使用され、有効であることが示されています...   \n",
       "\n",
       "                                               database  \n",
       "0     cyberagent/chatbot-arena-ja-calm2-7b-chat-expe...  \n",
       "1     cyberagent/chatbot-arena-ja-calm2-7b-chat-expe...  \n",
       "2                      kunishou/databricks-dolly-15k-ja  \n",
       "3     cyberagent/chatbot-arena-ja-calm2-7b-chat-expe...  \n",
       "4     cyberagent/chatbot-arena-ja-calm2-7b-chat-expe...  \n",
       "...                                                 ...  \n",
       "6437                               llm-jp/oasst2-33k-ja  \n",
       "6438                               llm-jp/oasst2-33k-ja  \n",
       "6439                   kunishou/databricks-dolly-15k-ja  \n",
       "6440  cyberagent/chatbot-arena-ja-calm2-7b-chat-expe...  \n",
       "6441                   kunishou/databricks-dolly-15k-ja  \n",
       "\n",
       "[6442 rows x 5 columns]"
      ]
     },
     "execution_count": 29,
     "metadata": {},
     "output_type": "execute_result"
    }
   ],
   "source": [
    "\n",
    "df.reindex()"
   ]
  },
  {
   "cell_type": "code",
   "execution_count": null,
   "metadata": {},
   "outputs": [],
   "source": []
  }
 ],
 "metadata": {
  "kernelspec": {
   "display_name": "llmeval",
   "language": "python",
   "name": "python3"
  },
  "language_info": {
   "codemirror_mode": {
    "name": "ipython",
    "version": 3
   },
   "file_extension": ".py",
   "mimetype": "text/x-python",
   "name": "python",
   "nbconvert_exporter": "python",
   "pygments_lexer": "ipython3",
   "version": "3.11.8"
  }
 },
 "nbformat": 4,
 "nbformat_minor": 2
}
